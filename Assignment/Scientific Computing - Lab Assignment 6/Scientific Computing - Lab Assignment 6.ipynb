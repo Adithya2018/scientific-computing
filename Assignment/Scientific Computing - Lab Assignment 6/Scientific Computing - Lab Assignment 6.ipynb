{
 "cells": [
  {
   "cell_type": "markdown",
   "id": "miniature-academy",
   "metadata": {},
   "source": [
    "# Python Programming - NumPy"
   ]
  },
  {
   "cell_type": "code",
   "execution_count": 27,
   "id": "august-noise",
   "metadata": {},
   "outputs": [
    {
     "name": "stdout",
     "output_type": "stream",
     "text": [
      "Collecting numpy\n",
      "  Downloading numpy-1.20.2-cp38-cp38-win_amd64.whl (13.7 MB)\n",
      "Installing collected packages: numpy\n",
      "Successfully installed numpy-1.20.2\n",
      "Note: you may need to restart the kernel to use updated packages.\n"
     ]
    }
   ],
   "source": [
    "pip install numpy"
   ]
  },
  {
   "cell_type": "code",
   "execution_count": 1,
   "id": "demanding-kansas",
   "metadata": {},
   "outputs": [
    {
     "name": "stdout",
     "output_type": "stream",
     "text": [
      "[1 2 3]\n",
      "(3,)\n",
      "Execution time  0.0010004043579101562\n"
     ]
    }
   ],
   "source": [
    "import time\n",
    "import numpy as np\n",
    "start_time=time.time()\n",
    "a = np.array([1, 2, 3])\n",
    "#Instead of [1,2,3] pass a list having 1000 values[1,...1000]\n",
    "print(a)\n",
    "print(a.shape)\n",
    "print(\"Execution time \",time.time()-start_time)"
   ]
  },
  {
   "cell_type": "code",
   "execution_count": 2,
   "id": "optimum-dispute",
   "metadata": {},
   "outputs": [
    {
     "name": "stdout",
     "output_type": "stream",
     "text": [
      "[[1 2]\n",
      " [3 4]\n",
      " [5 6]]\n",
      "(3, 2)\n",
      "[[1 2 3]\n",
      " [4 5 6]]\n",
      "[[1 2]\n",
      " [3 4]\n",
      " [5 6]]\n",
      "Execution time  0.0010023117065429688\n"
     ]
    }
   ],
   "source": [
    "import time\n",
    "start_time=time.time()\n",
    "import numpy as np \n",
    "a = np.array([[1, 2], [3, 4],[5,6]]) \n",
    "print(a)\n",
    "print(a.shape)\n",
    "a.shape = (2,3) \n",
    "print(a)\n",
    "b = a.reshape(3,2) \n",
    "print(b)\n",
    "print(\"Execution time \",time.time()-start_time)"
   ]
  },
  {
   "cell_type": "code",
   "execution_count": 3,
   "id": "athletic-watson",
   "metadata": {},
   "outputs": [
    {
     "name": "stdout",
     "output_type": "stream",
     "text": [
      "[1.+0.j 2.+0.j 3.+0.j]\n",
      "Execution time  0.000989675521850586\n"
     ]
    }
   ],
   "source": [
    "\n",
    "\n",
    "import time\n",
    "start_time=time.time()\n",
    "import numpy as np \n",
    "a = np.array([1, 2, 3], dtype = complex) #Try bool instead of complex\n",
    "print(a)\n",
    "print(\"Execution time \",time.time()-start_time)\n",
    "\n"
   ]
  },
  {
   "cell_type": "code",
   "execution_count": 4,
   "id": "necessary-sherman",
   "metadata": {},
   "outputs": [
    {
     "name": "stdout",
     "output_type": "stream",
     "text": [
      "[ 0  1  2  3  4  5  6  7  8  9 10 11 12 13 14 15 16 17 18 19 20 21 22 23]\n",
      "(24,)\n",
      "1\n",
      "[[[ 0  1  2]\n",
      "  [ 3  4  5]\n",
      "  [ 6  7  8]\n",
      "  [ 9 10 11]]\n",
      "\n",
      " [[12 13 14]\n",
      "  [15 16 17]\n",
      "  [18 19 20]\n",
      "  [21 22 23]]]\n",
      "(2, 4, 3)\n",
      "3\n",
      "Execution time  0.0020034313201904297\n"
     ]
    }
   ],
   "source": [
    "import time\n",
    "start_time=time.time()\n",
    "import numpy as np \n",
    "a = np.arange(24) \n",
    "print(a)\n",
    "print(a.shape)\n",
    "print(a.ndim)\n",
    "b = a.reshape(2,4,3) #Try 5 instead of 3\n",
    "print(b) \n",
    "print(b.shape)\n",
    "print(b.ndim)\n",
    "print(\"Execution time \",time.time()-start_time)"
   ]
  },
  {
   "cell_type": "code",
   "execution_count": 5,
   "id": "continued-method",
   "metadata": {},
   "outputs": [
    {
     "name": "stdout",
     "output_type": "stream",
     "text": [
      "[[1. 1. 1. 1.]\n",
      " [1. 1. 1. 1.]\n",
      " [1. 1. 1. 1.]\n",
      " [1. 1. 1. 1.]\n",
      " [1. 1. 1. 1.]]\n",
      "(5, 4)\n",
      "Execution time  0.000997781753540039\n"
     ]
    }
   ],
   "source": [
    "\n",
    "\n",
    "import time\n",
    "start_time=time.time()\n",
    "import numpy as np \n",
    "x = np.ones((5,4)) #Try ones instead of zeros\n",
    "print(x)\n",
    "print(x.shape)\n",
    "print(\"Execution time \",time.time()-start_time)\n",
    "\n"
   ]
  },
  {
   "cell_type": "code",
   "execution_count": 6,
   "id": "outstanding-mechanics",
   "metadata": {},
   "outputs": [
    {
     "name": "stdout",
     "output_type": "stream",
     "text": [
      "[[0.37774385 0.99359102 0.99402361 0.04191962]\n",
      " [0.34339658 0.82212937 0.56170538 0.64871124]\n",
      " [0.32697604 0.74126506 0.03986466 0.87801061]\n",
      " [0.76939387 0.14384918 0.05797777 0.10706538]\n",
      " [0.91865183 0.09564871 0.79351294 0.48449937]]\n",
      "(5, 4)\n",
      "Execution time  0.0009980201721191406\n"
     ]
    }
   ],
   "source": [
    "import time\n",
    "start_time=time.time()\n",
    "import numpy as np \n",
    "x = np.random.rand(5,4) \n",
    "print(x)\n",
    "print(x.shape)\n",
    "print(\"Execution time \",time.time()-start_time)"
   ]
  },
  {
   "cell_type": "code",
   "execution_count": 7,
   "id": "excessive-array",
   "metadata": {},
   "outputs": [
    {
     "name": "stdout",
     "output_type": "stream",
     "text": [
      "[[24 93 42 39]\n",
      " [80 74 73 73]\n",
      " [16  4 60 50]\n",
      " [51 27 36 58]\n",
      " [38  7  2 95]]\n",
      "(5, 4)\n",
      "Execution time  0.001001596450805664\n"
     ]
    }
   ],
   "source": [
    "import time\n",
    "start_time=time.time()\n",
    "import numpy as np \n",
    "x = np.random.randint(100,size=(5,4)) \n",
    "print(x)\n",
    "print(x.shape)\n",
    "print(\"Execution time \",time.time()-start_time)"
   ]
  },
  {
   "cell_type": "code",
   "execution_count": 8,
   "id": "final-antigua",
   "metadata": {},
   "outputs": [
    {
     "name": "stdout",
     "output_type": "stream",
     "text": [
      "[1 2 3 4 5]\n",
      "<class 'numpy.ndarray'>\n",
      "Execution time  0.000997304916381836\n"
     ]
    }
   ],
   "source": [
    "import time\n",
    "start_time=time.time()\n",
    "import numpy as np\n",
    "arr = np.array([1, 2, 3, 4, 5]) #Instead give a tuple(1,2,3,4,5)\n",
    "print(arr)\n",
    "print(type(arr))\n",
    "print(\"Execution time \",time.time()-start_time)"
   ]
  },
  {
   "cell_type": "code",
   "execution_count": 9,
   "id": "similar-bailey",
   "metadata": {},
   "outputs": [
    {
     "name": "stdout",
     "output_type": "stream",
     "text": [
      "6\n",
      "Execution time  0.0010006427764892578\n"
     ]
    }
   ],
   "source": [
    "import time\n",
    "start_time=time.time()\n",
    "import numpy as np\n",
    "arr = np.array([[[1, 2, 3], [4, 5, 6]], [[7, 8, 9], [10, 11, 12]]])\n",
    "print(arr[0, 1, 2]) # Try arr[1,0,2]\n",
    "print(\"Execution time \",time.time()-start_time)"
   ]
  },
  {
   "cell_type": "code",
   "execution_count": 10,
   "id": "operational-samba",
   "metadata": {},
   "outputs": [
    {
     "name": "stdout",
     "output_type": "stream",
     "text": [
      "Last element from 2nd dim:  10\n",
      "Execution time  0.0\n"
     ]
    }
   ],
   "source": [
    "import time\n",
    "start_time=time.time()\n",
    "import numpy as np\n",
    "arr = np.array([[1,2,3,4,5], [6,7,8,9,10]])\n",
    "print('Last element from 2nd dim: ', arr[1, -1]) #Try arr[-3, -1]\n",
    "print(\"Execution time \",time.time()-start_time)"
   ]
  },
  {
   "cell_type": "code",
   "execution_count": 11,
   "id": "confidential-challenge",
   "metadata": {},
   "outputs": [
    {
     "name": "stdout",
     "output_type": "stream",
     "text": [
      "[2 3 4 5]\n",
      "[5 6 7]\n",
      "[1 2 3 4]\n",
      "[5 6]\n",
      "[2 4]\n",
      "[1 3 5 7]\n",
      "Execution time  0.002000093460083008\n"
     ]
    }
   ],
   "source": [
    "import time\n",
    "start_time=time.time()\n",
    "import numpy as np\n",
    "arr = np.array([1, 2, 3, 4, 5, 6, 7])\n",
    "print(arr[1:5]) #Try arr[0:3]\n",
    "print(arr[4:]) #Try arr[2:]\n",
    "print(arr[:4]) #try arr[:1]\n",
    "print(arr[-3:-1]) #Try arr[-5:-1]\n",
    "print(arr[1:5:2]) #Try arr[1:6:4]\n",
    "print(arr[::2]) #Try arr[::3]\n",
    "print(\"Execution time \",time.time()-start_time)"
   ]
  },
  {
   "cell_type": "code",
   "execution_count": 12,
   "id": "virtual-advertising",
   "metadata": {},
   "outputs": [
    {
     "name": "stdout",
     "output_type": "stream",
     "text": [
      "[7 8 9]\n",
      "[3 8]\n",
      "[[2 3 4]\n",
      " [7 8 9]]\n",
      "Execution time  0.0010004043579101562\n"
     ]
    }
   ],
   "source": [
    "import time\n",
    "start_time=time.time()\n",
    "import numpy as np\n",
    "arr = np.array([[1, 2, 3, 4, 5], [6, 7, 8, 9, 10]])\n",
    "print(arr[1, 1:4])\n",
    "print(arr[0:2, 2])\n",
    "print(arr[0:2, 1:4])\n",
    "print(\"Execution time \",time.time()-start_time)"
   ]
  },
  {
   "cell_type": "code",
   "execution_count": 13,
   "id": "individual-tennessee",
   "metadata": {},
   "outputs": [
    {
     "name": "stdout",
     "output_type": "stream",
     "text": [
      "[ True  True  True]\n",
      "bool\n",
      "Execution time  0.0009865760803222656\n"
     ]
    }
   ],
   "source": [
    "import time\n",
    "start_time=time.time()\n",
    "import numpy as np\n",
    "arr = np.array([1.1, 2.1, 3.1])\n",
    "newarr = arr.astype(bool)  #Try int instead of bool\n",
    "print(newarr)\n",
    "print(newarr.dtype)\n",
    "print(\"Execution time \",time.time()-start_time)"
   ]
  },
  {
   "cell_type": "code",
   "execution_count": 14,
   "id": "smaller-problem",
   "metadata": {},
   "outputs": [
    {
     "name": "stdout",
     "output_type": "stream",
     "text": [
      "[1 2 3]\n",
      "[4 5 6]\n",
      "Execution time  0.0010001659393310547\n"
     ]
    }
   ],
   "source": [
    "import time\n",
    "start_time=time.time()\n",
    "import numpy as np\n",
    "arr = np.array([[1, 2, 3], [4, 5, 6]])\n",
    "for x in arr:\n",
    "    print(x)\n",
    "print(\"Execution time \",time.time()-start_time)"
   ]
  },
  {
   "cell_type": "code",
   "execution_count": 15,
   "id": "requested-uncertainty",
   "metadata": {},
   "outputs": [
    {
     "name": "stdout",
     "output_type": "stream",
     "text": [
      "1\n",
      "2\n",
      "3\n",
      "4\n",
      "5\n",
      "6\n",
      "Execution time  0.0\n"
     ]
    }
   ],
   "source": [
    "import time\n",
    "start_time=time.time()\n",
    "import numpy as np\n",
    "arr = np.array([[1, 2, 3], [4, 5, 6]])\n",
    "for x in arr:\n",
    "    for y in x:\n",
    "        print(y)\n",
    "print(\"Execution time \",time.time()-start_time)"
   ]
  },
  {
   "cell_type": "code",
   "execution_count": 16,
   "id": "fourth-inspection",
   "metadata": {},
   "outputs": [
    {
     "name": "stdout",
     "output_type": "stream",
     "text": [
      "[1 2 3 4 5 6]\n",
      "Execution time  0.31485891342163086\n"
     ]
    }
   ],
   "source": [
    "import numpy as np\n",
    "arr1 = np.array([1, 2, 3])\n",
    "arr2 = np.array([4, 5, 6])\n",
    "arr11 = np.concatenate((arr1, arr2))\n",
    "print(arr11)\n",
    "print(\"Execution time \",time.time()-start_time)"
   ]
  },
  {
   "cell_type": "code",
   "execution_count": 17,
   "id": "assumed-terry",
   "metadata": {},
   "outputs": [
    {
     "name": "stdout",
     "output_type": "stream",
     "text": [
      "[[1 2 5 6]\n",
      " [3 4 7 8]]\n",
      "Execution time  0.0\n"
     ]
    }
   ],
   "source": [
    "import time\n",
    "start_time=time.time()\n",
    "import numpy as np\n",
    "arr1 = np.array([[1, 2], [3, 4]])\n",
    "arr2 = np.array([[5, 6], [7, 8]])\n",
    "arr = np.concatenate((arr1, arr2), axis=1)\n",
    "print(arr)\n",
    "print(\"Execution time \",time.time()-start_time)"
   ]
  },
  {
   "cell_type": "code",
   "execution_count": 18,
   "id": "stock-kingston",
   "metadata": {},
   "outputs": [
    {
     "name": "stdout",
     "output_type": "stream",
     "text": [
      "[[1 4]\n",
      " [2 5]\n",
      " [3 6]]\n",
      "Execution time  0.0\n"
     ]
    }
   ],
   "source": [
    "import time\n",
    "start_time=time.time()\n",
    "import numpy as np\n",
    "arr1 = np.array([1, 2, 3])\n",
    "arr2 = np.array([4, 5, 6])\n",
    "arr = np.stack((arr1, arr2), axis=1)\n",
    "print(arr)\n",
    "print(\"Execution time \",time.time()-start_time)"
   ]
  },
  {
   "cell_type": "code",
   "execution_count": 19,
   "id": "suffering-agency",
   "metadata": {},
   "outputs": [
    {
     "name": "stdout",
     "output_type": "stream",
     "text": [
      "[1 2 3 4 5 6]\n",
      "Execution time  0.0010006427764892578\n"
     ]
    }
   ],
   "source": [
    "import time\n",
    "start_time=time.time()\n",
    "import numpy as np\n",
    "arr1 = np.array([1, 2, 3])\n",
    "arr2 = np.array([4, 5, 6])\n",
    "arr = np.hstack((arr1, arr2))\n",
    "print(arr)\n",
    "print(\"Execution time \",time.time()-start_time)"
   ]
  },
  {
   "cell_type": "code",
   "execution_count": 20,
   "id": "expected-scoop",
   "metadata": {},
   "outputs": [
    {
     "name": "stdout",
     "output_type": "stream",
     "text": [
      "[[1 2 3]\n",
      " [4 5 6]]\n",
      "Execution time  0.0009980201721191406\n"
     ]
    }
   ],
   "source": [
    "import time\n",
    "start_time=time.time()\n",
    "import numpy as np\n",
    "arr1 = np.array([1, 2, 3])\n",
    "arr2 = np.array([4, 5, 6])\n",
    "arr = np.vstack((arr1, arr2))\n",
    "print(arr)\n",
    "print(\"Execution time \",time.time()-start_time)"
   ]
  },
  {
   "cell_type": "code",
   "execution_count": 23,
   "id": "fossil-withdrawal",
   "metadata": {},
   "outputs": [
    {
     "name": "stdout",
     "output_type": "stream",
     "text": [
      "[array([1, 2, 3]), array([4, 5, 6])]\n",
      "Execution time  0.0010156631469726562\n"
     ]
    }
   ],
   "source": [
    "import time\n",
    "start_time=time.time()\n",
    "import numpy as np\n",
    "arr = np.array([1, 2, 3, 4, 5, 6])\n",
    "newarr = np.array_split(arr, 2) # check output by changing second argument to 3,4,5 and 6 \n",
    "print(newarr)\n",
    "print(\"Execution time \",time.time()-start_time)"
   ]
  },
  {
   "cell_type": "code",
   "execution_count": 24,
   "id": "defined-hungary",
   "metadata": {},
   "outputs": [
    {
     "name": "stdout",
     "output_type": "stream",
     "text": [
      "(array([0], dtype=int64),)\n",
      "Execution time  0.0009965896606445312\n"
     ]
    }
   ],
   "source": [
    "import time\n",
    "start_time=time.time()\n",
    "import numpy as np\n",
    "arr = np.array([1, 2, 3, 4, 5, 4, 4])\n",
    "x = np.where(arr == 1)  #try 4 instead of 1\n",
    "print(x)\n",
    "print(\"Execution time \",time.time()-start_time)"
   ]
  },
  {
   "cell_type": "code",
   "execution_count": 25,
   "id": "bizarre-nitrogen",
   "metadata": {},
   "outputs": [
    {
     "name": "stdout",
     "output_type": "stream",
     "text": [
      "(array([1, 3, 5, 7], dtype=int64),)\n",
      "Execution time  0.0009989738464355469\n"
     ]
    }
   ],
   "source": [
    "import time\n",
    "start_time=time.time()\n",
    "import numpy as np\n",
    "arr = np.array([1, 2, 3, 4, 5, 6, 7, 8])\n",
    "x = np.where(arr%2 == 0) #Try arr%4 == 0\n",
    "print(x)\n",
    "print(\"Execution time \",time.time()-start_time)"
   ]
  },
  {
   "cell_type": "code",
   "execution_count": 26,
   "id": "still-verse",
   "metadata": {},
   "outputs": [
    {
     "name": "stdout",
     "output_type": "stream",
     "text": [
      "[0 1 2 3]\n",
      "Execution time  0.0010013580322265625\n"
     ]
    }
   ],
   "source": [
    "import time\n",
    "start_time=time.time()\n",
    "import numpy as np\n",
    "arr = np.array([3, 2, 0, 1]) #Try [3,2,0,1.1]\n",
    "print(np.sort(arr))\n",
    "print(\"Execution time \",time.time()-start_time)"
   ]
  },
  {
   "cell_type": "code",
   "execution_count": 27,
   "id": "competitive-cheat",
   "metadata": {},
   "outputs": [
    {
     "name": "stdout",
     "output_type": "stream",
     "text": [
      "['apple' 'banana' 'cherry']\n",
      "Execution time  0.0010004043579101562\n"
     ]
    }
   ],
   "source": [
    "import time\n",
    "start_time=time.time()\n",
    "import numpy as np\n",
    "arr = np.array(['banana', 'cherry', 'apple']) #Try ['banana', '8herry', 'apple']\n",
    "print(np.sort(arr))\n",
    "print(\"Execution time \",time.time()-start_time)"
   ]
  },
  {
   "cell_type": "code",
   "execution_count": 28,
   "id": "complimentary-coordination",
   "metadata": {},
   "outputs": [
    {
     "name": "stdout",
     "output_type": "stream",
     "text": [
      "[False False  True  True]\n",
      "[43 44]\n",
      "Execution time  0.0010006427764892578\n"
     ]
    }
   ],
   "source": [
    "import time\n",
    "start_time=time.time()\n",
    "import numpy as np\n",
    "arr = np.array([41, 42, 43, 44])\n",
    "filter_arr = arr > 42 #Try arr > 42 and arr < 44\n",
    "newarr = arr[filter_arr]\n",
    "print(filter_arr)\n",
    "print(newarr)\n",
    "print(\"Execution time \",time.time()-start_time)"
   ]
  },
  {
   "cell_type": "code",
   "execution_count": 29,
   "id": "productive-programmer",
   "metadata": {},
   "outputs": [
    {
     "name": "stdout",
     "output_type": "stream",
     "text": [
      "4\n",
      "Execution time  0.0\n"
     ]
    }
   ],
   "source": [
    "import time\n",
    "start_time=time.time()\n",
    "import numpy as np\n",
    "arr = np.array([20, 8, 32, 36, 16]) #Try [20, 8, 32, 36.0, 16]\n",
    "x = np.gcd.reduce(arr)\n",
    "print(x)\n",
    "print(\"Execution time \",time.time()-start_time)"
   ]
  },
  {
   "cell_type": "code",
   "execution_count": 30,
   "id": "through-mechanism",
   "metadata": {},
   "outputs": [
    {
     "name": "stdout",
     "output_type": "stream",
     "text": [
      "1440\n",
      "Execution time  0.0009999275207519531\n"
     ]
    }
   ],
   "source": [
    "import time\n",
    "start_time=time.time()\n",
    "import numpy as np\n",
    "arr = np.array([20, 8, 32, 36, 16])\n",
    "x = np.lcm.reduce(arr)\n",
    "\n",
    "print(x)\n",
    "print(\"Execution time \",time.time()-start_time)"
   ]
  },
  {
   "cell_type": "markdown",
   "id": "joint-chamber",
   "metadata": {},
   "source": [
    "# Write Python code for the following problem"
   ]
  },
  {
   "cell_type": "markdown",
   "id": "suited-coalition",
   "metadata": {},
   "source": [
    "Create an array of 100 strings following specification"
   ]
  },
  {
   "cell_type": "markdown",
   "id": "rotary-laundry",
   "metadata": {},
   "source": [
    "1. Each string has five alphabets (Ex: \"AbHyM\") randomly generated\n",
    "2. First, Third and Fifth characters are Uppercase\n",
    "3. Second and Fourth characters are Lowercase"
   ]
  },
  {
   "cell_type": "markdown",
   "id": "terminal-drain",
   "metadata": {},
   "source": [
    "After successful creation of the string do the following"
   ]
  },
  {
   "cell_type": "markdown",
   "id": "ranging-nancy",
   "metadata": {},
   "source": [
    "1. Convert 100 strings to a single string and calculate alphabet frequency (like a-200.b-450,...z-90)\n",
    "2. While calculating frequencies 'a' and 'A' are same\n",
    "3. Create an array of size 26 with alphabet probabilities (if a-200, then p(a)=200/500, like that to z)"
   ]
  },
  {
   "cell_type": "markdown",
   "id": "received-iraqi",
   "metadata": {},
   "source": [
    "#### Answers"
   ]
  },
  {
   "cell_type": "code",
   "execution_count": null,
   "id": "awful-driver",
   "metadata": {},
   "outputs": [],
   "source": []
  },
  {
   "cell_type": "code",
   "execution_count": null,
   "id": "driven-writing",
   "metadata": {},
   "outputs": [],
   "source": []
  },
  {
   "cell_type": "code",
   "execution_count": null,
   "id": "soviet-chicken",
   "metadata": {},
   "outputs": [],
   "source": []
  }
 ],
 "metadata": {
  "kernelspec": {
   "display_name": "Python 3",
   "language": "python",
   "name": "python3"
  },
  "language_info": {
   "codemirror_mode": {
    "name": "ipython",
    "version": 3
   },
   "file_extension": ".py",
   "mimetype": "text/x-python",
   "name": "python",
   "nbconvert_exporter": "python",
   "pygments_lexer": "ipython3",
   "version": "3.8.5"
  }
 },
 "nbformat": 4,
 "nbformat_minor": 5
}
