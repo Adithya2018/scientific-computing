{
 "cells": [
  {
   "cell_type": "markdown",
   "id": "according-things",
   "metadata": {},
   "source": [
    "# Python Programming - File Handling and Exception Handling"
   ]
  },
  {
   "cell_type": "markdown",
   "id": "psychological-trustee",
   "metadata": {},
   "source": [
    "1. Write a python program to read an entire text file."
   ]
  },
  {
   "cell_type": "code",
   "execution_count": 11,
   "id": "discrete-watson",
   "metadata": {},
   "outputs": [
    {
     "name": "stdout",
     "output_type": "stream",
     "text": [
      "['A random text file to check whether the python program can read the file.\\n', 'Hopefully it can read it. \\n', \"Let's find out for real now!\"]\n"
     ]
    }
   ],
   "source": [
    "def read_entire_file():\n",
    "    File_object = open(r\"random.txt\",\"r\")\n",
    "    a = []\n",
    "    for i in File_object.readlines():\n",
    "        a.append(i)\n",
    "    File_object.close()\n",
    "    print(a)\n",
    "read_entire_file()"
   ]
  },
  {
   "cell_type": "markdown",
   "id": "killing-growth",
   "metadata": {},
   "source": [
    "2. Write a Python program to read first n lines of a file."
   ]
  },
  {
   "cell_type": "code",
   "execution_count": 18,
   "id": "lesser-specification",
   "metadata": {},
   "outputs": [
    {
     "name": "stdout",
     "output_type": "stream",
     "text": [
      "Enter n 2\n",
      "['A random text file to check whether the python program can read the file.\\n', 'Hopefully it can read it. \\n']\n"
     ]
    }
   ],
   "source": [
    "def read_n_file(n):\n",
    "    File_object = open(r\"random.txt\",\"r\")\n",
    "    a = []\n",
    "    i = 1\n",
    "    while i <= n:\n",
    "        a.append(File_object.readline())\n",
    "        i += 1\n",
    "    File_object.close()\n",
    "    print(a)\n",
    "n = int(input(\"Enter n \"))\n",
    "read_n_file(n)"
   ]
  },
  {
   "cell_type": "markdown",
   "id": "based-sheet",
   "metadata": {},
   "source": [
    "3. Write a Python program to append text to file and display the text."
   ]
  },
  {
   "cell_type": "code",
   "execution_count": 19,
   "id": "respective-angel",
   "metadata": {},
   "outputs": [
    {
     "name": "stdout",
     "output_type": "stream",
     "text": [
      "Enter the text to append Random\n",
      "['A random text file to check whether the python program can read the file.\\n', 'Hopefully it can read it. \\n', \"Let's find out for real now!Let's try some more text lines2Random stuff right now'\\\\n', more random stuff coming your way \\\\nRandom\"]\n"
     ]
    }
   ],
   "source": [
    "def append_file_text(str1):\n",
    "    File_object = open(\"random.txt\",\"a\")\n",
    "    File_object.write(str1)\n",
    "    File_object.close()\n",
    "\n",
    "str1 = input('Enter the text to append ')\n",
    "append_file_text(str1)\n",
    "read_entire_file()\n"
   ]
  },
  {
   "cell_type": "markdown",
   "id": "warming-number",
   "metadata": {},
   "source": [
    "4. Write a Python program to read a file line by line and store it into \n",
    "    \n",
    "        a. List\n",
    "        b. Variable\n",
    "        c. Array"
   ]
  },
  {
   "cell_type": "code",
   "execution_count": 23,
   "id": "russian-cruise",
   "metadata": {},
   "outputs": [
    {
     "name": "stdout",
     "output_type": "stream",
     "text": [
      "File stored in list\n",
      "\n",
      "['A random text file to check whether the python program can read the file.\\n', 'Hopefully it can read it. \\n', \"Let's find out for real now!Let's try some more text lines2Random stuff right now'\\\\n', more random stuff coming your way \\\\nRandom\"]\n",
      "File stored in Variable\n",
      "\n",
      "['A random text file to check whether the python program can read the file.\\n', 'Hopefully it can read it. \\n', \"Let's find out for real now!Let's try some more text lines2Random stuff right now'\\\\n', more random stuff coming your way \\\\nRandom\", ' ', 'A', ' ', 'r', 'a', 'n', 'd', 'o', 'm', ' ', 't', 'e', 'x', 't', ' ', 'f', 'i', 'l', 'e', ' ', 't', 'o', ' ', 'c', 'h', 'e', 'c', 'k', ' ', 'w', 'h', 'e', 't', 'h', 'e', 'r', ' ', 't', 'h', 'e', ' ', 'p', 'y', 't', 'h', 'o', 'n', ' ', 'p', 'r', 'o', 'g', 'r', 'a', 'm', ' ', 'c', 'a', 'n', ' ', 'r', 'e', 'a', 'd', ' ', 't', 'h', 'e', ' ', 'f', 'i', 'l', 'e', '.', '\\n', ' ', 'H', 'o', 'p', 'e', 'f', 'u', 'l', 'l', 'y', ' ', 'i', 't', ' ', 'c', 'a', 'n', ' ', 'r', 'e', 'a', 'd', ' ', 'i', 't', '.', ' ', '\\n', ' ', 'L', 'e', 't', \"'\", 's', ' ', 'f', 'i', 'n', 'd', ' ', 'o', 'u', 't', ' ', 'f', 'o', 'r', ' ', 'r', 'e', 'a', 'l', ' ', 'n', 'o', 'w', '!', 'L', 'e', 't', \"'\", 's', ' ', 't', 'r', 'y', ' ', 's', 'o', 'm', 'e', ' ', 'm', 'o', 'r', 'e', ' ', 't', 'e', 'x', 't', ' ', 'l', 'i', 'n', 'e', 's', '2', 'R', 'a', 'n', 'd', 'o', 'm', ' ', 's', 't', 'u', 'f', 'f', ' ', 'r', 'i', 'g', 'h', 't', ' ', 'n', 'o', 'w', \"'\", '\\\\', 'n', \"'\", ',', ' ', 'm', 'o', 'r', 'e', ' ', 'r', 'a', 'n', 'd', 'o', 'm', ' ', 's', 't', 'u', 'f', 'f', ' ', 'c', 'o', 'm', 'i', 'n', 'g', ' ', 'y', 'o', 'u', 'r', ' ', 'w', 'a', 'y', ' ', '\\\\', 'n', 'R', 'a', 'n', 'd', 'o', 'm']\n"
     ]
    }
   ],
   "source": [
    "# list\n",
    "File_object = open(r\"random.txt\",\"r\")\n",
    "a = []\n",
    "for i in File_object.readlines():\n",
    "    a.append(i)\n",
    "File_object.close()\n",
    "print(\"File stored in list\")\n",
    "print()\n",
    "print(a)\n",
    "\n",
    "# Variable\n",
    "File_object = open(r\"random.txt\",\"r\")\n",
    "\n",
    "for i in File_object.readlines():\n",
    "    a += ' ' + i\n",
    "    \n",
    "File_object.close()\n",
    "print(\"File stored in Variable\")\n",
    "print()\n",
    "print(a)\n",
    "\n",
    "#Array\n"
   ]
  },
  {
   "cell_type": "markdown",
   "id": "hired-dividend",
   "metadata": {},
   "source": [
    "5. Write a Python program to count the number of lines in a text file and frequency of words in a file."
   ]
  },
  {
   "cell_type": "code",
   "execution_count": null,
   "id": "southeast-abraham",
   "metadata": {},
   "outputs": [],
   "source": []
  }
 ],
 "metadata": {
  "kernelspec": {
   "display_name": "Python 3",
   "language": "python",
   "name": "python3"
  },
  "language_info": {
   "codemirror_mode": {
    "name": "ipython",
    "version": 3
   },
   "file_extension": ".py",
   "mimetype": "text/x-python",
   "name": "python",
   "nbconvert_exporter": "python",
   "pygments_lexer": "ipython3",
   "version": "3.8.5"
  }
 },
 "nbformat": 4,
 "nbformat_minor": 5
}
