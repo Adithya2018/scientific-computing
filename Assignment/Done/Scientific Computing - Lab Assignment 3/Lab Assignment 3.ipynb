{
 "cells": [
  {
   "cell_type": "markdown",
   "id": "acknowledged-office",
   "metadata": {},
   "source": [
    "1. To accept a sequence of comma-separated numbers from the user and generate the following with those numbers:-\n",
    "    \n",
    "        a. Tuple\n",
    "        b. Set"
   ]
  },
  {
   "cell_type": "code",
   "execution_count": 4,
   "id": "tender-aquarium",
   "metadata": {},
   "outputs": [
    {
     "name": "stdout",
     "output_type": "stream",
     "text": [
      "Enter a sequence of numbers separated by comma \n",
      "1,2,3,4,2,3\n",
      "Tuple\n",
      "('1', '2', '3', '4', '2', '3')\n",
      "Set\n",
      "{'2', '3', '4', '1'}\n"
     ]
    }
   ],
   "source": [
    "str1 = input('Enter a sequence of numbers separated by comma \\n')\n",
    "tup1 = tuple(str1.split(','))\n",
    "print('Tuple')\n",
    "print(tup1)\n",
    "set1 = set(str1.split(','))\n",
    "print('Set')\n",
    "print(set1)"
   ]
  },
  {
   "cell_type": "markdown",
   "id": "sticky-timothy",
   "metadata": {},
   "source": [
    "2. To find the elements those are not common in two sets."
   ]
  },
  {
   "cell_type": "code",
   "execution_count": 16,
   "id": "exposed-bridges",
   "metadata": {},
   "outputs": [
    {
     "name": "stdout",
     "output_type": "stream",
     "text": [
      "Enter length for set 1 4\n",
      "Enter the items of set 1\n",
      "Enter set item 1\n",
      "Enter set item 2\n",
      "Enter set item 3\n",
      "Enter set item 4\n",
      "Enter length for set 2 4\n",
      "Enter the items of set 2\n",
      "Enter set item 3\n",
      "Enter set item 4\n",
      "Enter set item 5\n",
      "Enter set item 6\n",
      "{1, 2, 5, 6}\n"
     ]
    }
   ],
   "source": [
    "set1 = set()\n",
    "set2 = set()\n",
    "\n",
    "n1 = int(input('Enter length for set 1 '))\n",
    "print('Enter the items of set 1')\n",
    "for i in range(0,n1):\n",
    "    set1.add(int(input('Enter set item ')))\n",
    "    \n",
    "n2 = int(input('Enter length for set 2 '))\n",
    "print('Enter the items of set 2')\n",
    "for i in range(0,n2):\n",
    "    set2.add(int(input('Enter set item ')))\n",
    "\n",
    "set3 = set1 ^ set2\n",
    "print(set3)"
   ]
  },
  {
   "cell_type": "markdown",
   "id": "fatty-beauty",
   "metadata": {},
   "source": [
    "3. To create a set of consonants in a given sentence using set comprehension."
   ]
  },
  {
   "cell_type": "code",
   "execution_count": 3,
   "id": "focused-yeast",
   "metadata": {},
   "outputs": [
    {
     "name": "stdout",
     "output_type": "stream",
     "text": [
      "Enter the sentence This is a test sentence\n",
      "{'n', 't', 's', 'c', 'h'}\n"
     ]
    }
   ],
   "source": [
    "str1 = input('Enter the sentence')\n",
    "str1 = str1.lower()\n",
    "consonants = {x for x in str1 if x not in ['a','e','i','o','u',' ']}\n",
    "print(consonants)"
   ]
  },
  {
   "cell_type": "markdown",
   "id": "needed-insertion",
   "metadata": {},
   "source": [
    "4. To remove all duplicates from a given sentence."
   ]
  },
  {
   "cell_type": "code",
   "execution_count": 13,
   "id": "tough-engineer",
   "metadata": {},
   "outputs": [
    {
     "name": "stdout",
     "output_type": "stream",
     "text": [
      "Enter the sentenceThis is a sample sentence.\n",
      "imnplTest.cah\n"
     ]
    }
   ],
   "source": [
    "str1 = input('Enter the sentence')\n",
    "upd_str = ''.join({x for x in str1 if x not in [' ']})\n",
    "print(upd_str)"
   ]
  },
  {
   "cell_type": "markdown",
   "id": "organic-gibraltar",
   "metadata": {},
   "source": [
    "5. To remove the intersection of a second set from the first set."
   ]
  },
  {
   "cell_type": "code",
   "execution_count": 18,
   "id": "improved-modification",
   "metadata": {},
   "outputs": [
    {
     "name": "stdout",
     "output_type": "stream",
     "text": [
      "Enter length for set 1 4\n",
      "Enter the items of set 1\n",
      "Enter set item 1\n",
      "Enter set item 2\n",
      "Enter set item 3\n",
      "Enter set item 4\n",
      "Enter length for set 2 4\n",
      "Enter the items of set 2\n",
      "Enter set item 3\n",
      "Enter set item 4\n",
      "Enter set item 5\n",
      "Enter set item 6\n",
      "{1, 2}\n"
     ]
    }
   ],
   "source": [
    "set1 = set()\n",
    "set2 = set()\n",
    "\n",
    "n1 = int(input('Enter length for set 1 '))\n",
    "print('Enter the items of set 1')\n",
    "for i in range(0,n1):\n",
    "    set1.add(int(input('Enter set item ')))\n",
    "        \n",
    "n2 = int(input('Enter length for set 2 '))\n",
    "print('Enter the items of set 2')\n",
    "for i in range(0,n2):\n",
    "    set2.add(int(input('Enter set item ')))\n",
    "    \n",
    "set1.difference_update(set2)\n",
    "print(set1)"
   ]
  },
  {
   "cell_type": "markdown",
   "id": "complicated-subscriber",
   "metadata": {},
   "source": [
    "6. To check if a given set is a superset of itself and a subset"
   ]
  },
  {
   "cell_type": "code",
   "execution_count": 21,
   "id": "concerned-vector",
   "metadata": {},
   "outputs": [
    {
     "name": "stdout",
     "output_type": "stream",
     "text": [
      "Enter length for set 5\n",
      "Enter the items of the set \n",
      "Enter set item 1\n",
      "Enter set item 2\n",
      "Enter set item 3\n",
      "Enter set item 4\n",
      "Enter set item 5\n",
      "Checking whether the set is a superset of itself \n",
      "True\n",
      "Checking whether the set is a subset of itself \n",
      "True\n"
     ]
    }
   ],
   "source": [
    "set1 = set()\n",
    "\n",
    "n1 = int(input('Enter length for set '))\n",
    "print('Enter the items of the set ')\n",
    "for i in range(0,n1):\n",
    "    set1.add(int(input('Enter set item ')))\n",
    "    \n",
    "print('Checking whether the set is a superset of itself ')\n",
    "print(set1.issuperset(set1))\n",
    "\n",
    "print('Checking whether the set is a subset of itself ')\n",
    "print(set1.issubset(set1))\n"
   ]
  },
  {
   "cell_type": "markdown",
   "id": "central-times",
   "metadata": {},
   "source": [
    "7. To create two frozen-sets and find the following:\n",
    "\n",
    "        a. Union\n",
    "        b. Intersection\n",
    "        c. Difference"
   ]
  },
  {
   "cell_type": "code",
   "execution_count": 26,
   "id": "analyzed-method",
   "metadata": {},
   "outputs": [
    {
     "name": "stdout",
     "output_type": "stream",
     "text": [
      "Enter length for set 1 5\n",
      "Enter the items of set 1\n",
      "Enter set item 1\n",
      "Enter set item 2\n",
      "Enter set item 3\n",
      "Enter set item 4\n",
      "Enter set item 5\n",
      "Enter length for set 2 5\n",
      "Enter the items of set 2\n",
      "Enter set item 3\n",
      "Enter set item 4\n",
      "Enter set item 5\n",
      "Enter set item 6\n",
      "Enter set item 7\n",
      "a. Union\n",
      "frozenset({1, 2, 3, 4, 5, 6, 7})\n",
      "b. Intersection\n",
      "frozenset({3, 4, 5})\n",
      "c. Difference\n",
      "frozenset({1, 2})\n"
     ]
    }
   ],
   "source": [
    "s1 = set()\n",
    "s2 = set()\n",
    "\n",
    "n1 = int(input('Enter length for set 1 '))\n",
    "print('Enter the items of set 1')\n",
    "for i in range(0,n1):\n",
    "    s1.add(int(input('Enter set item ')))\n",
    "s1 = frozenset(set1)\n",
    "        \n",
    "n2 = int(input('Enter length for set 2 '))\n",
    "print('Enter the items of set 2')\n",
    "for i in range(0,n2):\n",
    "    s2.add(int(input('Enter set item ')))\n",
    "s2 = frozenset(s2)\n",
    "\n",
    "print('a. Union')\n",
    "uni = s1.union(s2)\n",
    "print(uni)\n",
    "print('b. Intersection')\n",
    "inter = s1.intersection(s2)\n",
    "print(inter)\n",
    "print('c. Difference')\n",
    "dif = s1.difference(s2) \n",
    "print(dif)"
   ]
  },
  {
   "cell_type": "markdown",
   "id": "criminal-queue",
   "metadata": {},
   "source": [
    "8. To create a tuple of unique elements from an existing tuple."
   ]
  },
  {
   "cell_type": "code",
   "execution_count": 27,
   "id": "smaller-webster",
   "metadata": {},
   "outputs": [
    {
     "name": "stdout",
     "output_type": "stream",
     "text": [
      "Enter the no of elements in the existing tuple5\n",
      "Enter the items of the tuple\n",
      "Enter item 1\n",
      "Enter item 1\n",
      "Enter item 2\n",
      "Enter item 3\n",
      "Enter item 4\n",
      "('1', '3', '2', '4')\n"
     ]
    }
   ],
   "source": [
    "temp = []\n",
    "n = int(input('Enter the no of elements in the existing tuple'))\n",
    "print('Enter the items of the tuple')\n",
    "for i in range(0,n):\n",
    "    temp.append(input('Enter item '))\n",
    "ext_tup = tuple(temp)\n",
    "\n",
    "temp_set = {x for x in ext_tup}\n",
    "unq_tup = tuple(temp_set)\n",
    "print(unq_tup)"
   ]
  },
  {
   "cell_type": "markdown",
   "id": "unique-springfield",
   "metadata": {},
   "source": [
    "9. To count the occurrences of elements in a tuple."
   ]
  },
  {
   "cell_type": "code",
   "execution_count": 29,
   "id": "confirmed-scope",
   "metadata": {},
   "outputs": [
    {
     "name": "stdout",
     "output_type": "stream",
     "text": [
      "Enter the no of elements in the existing tuple6\n",
      "Enter the items of the tuple\n",
      "Enter item 1\n",
      "Enter item 1\n",
      "Enter item 1\n",
      "Enter item 2\n",
      "Enter item 3\n",
      "Enter item 4\n",
      "The number of occurences of elements in tuple\n",
      "1 occurs 3 times.\n",
      "3 occurs 1 times.\n",
      "2 occurs 1 times.\n",
      "4 occurs 1 times.\n"
     ]
    }
   ],
   "source": [
    "temp = []\n",
    "n = int(input('Enter the no of elements in the existing tuple'))\n",
    "print('Enter the items of the tuple')\n",
    "for i in range(0,n):\n",
    "    temp.append(input('Enter item '))\n",
    "ext_tup = tuple(temp)\n",
    "\n",
    "temp_set = {x for x in ext_tup}\n",
    "temp_list = list(temp_set)\n",
    "\n",
    "occ_list = []\n",
    "for i in temp_list:\n",
    "    x = 0\n",
    "    for j in ext_tup:\n",
    "        if i == j:\n",
    "            x = x + 1\n",
    "    occ_list.append(x)\n",
    "\n",
    "print('The number of occurences of elements in tuple')\n",
    "for i in range(0, len(occ_list)):\n",
    "    print(str(temp_list[i]) + ' occurs ' + str(occ_list[i]) + ' times.')\n",
    "\n",
    "            "
   ]
  },
  {
   "cell_type": "markdown",
   "id": "skilled-bishop",
   "metadata": {},
   "source": [
    "10. To find if all the items in a tuple, are the same."
   ]
  },
  {
   "cell_type": "code",
   "execution_count": 31,
   "id": "accomplished-prediction",
   "metadata": {},
   "outputs": [
    {
     "name": "stdout",
     "output_type": "stream",
     "text": [
      "Enter the no of elements in the existing tuple5\n",
      "Enter the items of the tuple\n",
      "Enter item 1\n",
      "Enter item 2\n",
      "Enter item 2\n",
      "Enter item 2\n",
      "Enter item 2\n",
      "No their are more than 1 unique item.\n"
     ]
    }
   ],
   "source": [
    "temp = []\n",
    "n = int(input('Enter the no of elements in the existing tuple'))\n",
    "print('Enter the items of the tuple')\n",
    "for i in range(0,n):\n",
    "    temp.append(input('Enter item '))\n",
    "ext_tup = tuple(temp)\n",
    "\n",
    "temp_set = {x for x in ext_tup}\n",
    "if len(temp_set) == 1:\n",
    "    print('All the items in the tuple are the same.')\n",
    "else:\n",
    "    print('No their are more than 1 unique item.')"
   ]
  },
  {
   "cell_type": "markdown",
   "id": "scenic-clearing",
   "metadata": {},
   "source": [
    "11. To sort a given tuple in descending order."
   ]
  },
  {
   "cell_type": "code",
   "execution_count": 32,
   "id": "suspended-access",
   "metadata": {},
   "outputs": [
    {
     "name": "stdout",
     "output_type": "stream",
     "text": [
      "Enter the no of elements in the existing tuple5\n",
      "Enter the items of the tuple\n",
      "Enter item 3\n",
      "Enter item 2\n",
      "Enter item 5\n",
      "Enter item 1\n",
      "Enter item 7\n",
      "['7', '5', '3', '2', '1']\n"
     ]
    }
   ],
   "source": [
    "temp = []\n",
    "n = int(input('Enter the no of elements in the existing tuple'))\n",
    "print('Enter the items of the tuple')\n",
    "for i in range(0,n):\n",
    "    temp.append(input('Enter item '))\n",
    "ext_tup = tuple(temp)\n",
    "\n",
    "sort_tup = sorted(ext_tup)[::-1]\n",
    "\n",
    "print(sort_tup)"
   ]
  },
  {
   "cell_type": "markdown",
   "id": "inappropriate-administrator",
   "metadata": {},
   "source": [
    "12. To check whether an element exists within a tuple."
   ]
  },
  {
   "cell_type": "code",
   "execution_count": 34,
   "id": "impressed-perth",
   "metadata": {},
   "outputs": [
    {
     "name": "stdout",
     "output_type": "stream",
     "text": [
      "Enter the no of elements in the existing tuple3\n",
      "Enter the items of the tuple\n",
      "Enter item 1\n",
      "Enter item 2\n",
      "Enter item 3\n",
      "Enter the element 5\n",
      "Element not found\n"
     ]
    }
   ],
   "source": [
    "temp = []\n",
    "n = int(input('Enter the no of elements in the existing tuple'))\n",
    "print('Enter the items of the tuple')\n",
    "for i in range(0,n):\n",
    "    temp.append(input('Enter item '))\n",
    "ext_tup = tuple(temp)\n",
    "\n",
    "ele = input('Enter the element ')\n",
    "f = 0\n",
    "for i in ext_tup:\n",
    "    if i == ele:\n",
    "        f = 1\n",
    "if f == 0:\n",
    "    print('Element not found')\n",
    "else:\n",
    "    print('Element exists')"
   ]
  },
  {
   "cell_type": "markdown",
   "id": "experimental-incident",
   "metadata": {},
   "source": [
    "13. To remove an empty tuple(s) from a tuple of tuples.\n",
    "\n",
    "        Sample data: ((), (2), (\",), ('x', 'y'), (), ('p','q','r'), (), (3,4))\n",
    "        Expected output: (2, (\",), ('x', 'y'), ('p','q','r'), (3,4))"
   ]
  },
  {
   "cell_type": "code",
   "execution_count": 37,
   "id": "romance-glass",
   "metadata": {},
   "outputs": [
    {
     "name": "stdout",
     "output_type": "stream",
     "text": [
      "(('',), ('x', 'y'), ('p', 'q', 'r'), (3, 4))\n"
     ]
    }
   ],
   "source": [
    "samp_tup = ((), ('',), ('x', 'y'), (), ('p','q','r'), (), (3,4))\n",
    "temp_list = []\n",
    "for x in samp_tup:\n",
    "    if len(x) > 0:\n",
    "        temp_list.append(x)\n",
    "exp_tup = tuple(temp_list)\n",
    "print(exp_tup)    "
   ]
  },
  {
   "cell_type": "markdown",
   "id": "pretty-dallas",
   "metadata": {},
   "source": [
    "14. To create a new dictionary by merging two dictionaries."
   ]
  },
  {
   "cell_type": "code",
   "execution_count": 41,
   "id": "educational-chancellor",
   "metadata": {},
   "outputs": [
    {
     "name": "stdout",
     "output_type": "stream",
     "text": [
      "{'Mickey': 1, 'John': 2, 'Alice': 12, 'Kelly': 4, 'Kevin': 5}\n"
     ]
    }
   ],
   "source": [
    "dict1 = {\"Mickey\":1,\"John\":2,\"Alice\":3}\n",
    "\n",
    "dict2 = {\"Kelly\":4,\"Kevin\":5, \"Alice\":12}\n",
    "\n",
    "dict3 = {**dict1, **dict2}\n",
    "print(dict3)\n",
    "\n"
   ]
  },
  {
   "cell_type": "markdown",
   "id": "injured-spectacular",
   "metadata": {},
   "source": [
    "15. To create a dictionary and to check if a key exists in the dictionary. If the key exists, print the value else, add the key into the dictionary."
   ]
  },
  {
   "cell_type": "code",
   "execution_count": 43,
   "id": "muslim-briefing",
   "metadata": {},
   "outputs": [
    {
     "name": "stdout",
     "output_type": "stream",
     "text": [
      "Enter the number of key-value pairs3\n",
      "Enter key Adi\n",
      "Enter value 1\n",
      "Enter key Mark\n",
      "Enter value 2\n",
      "Enter key Manson\n",
      "Enter value 4\n",
      "Enter the key you wantMark\n",
      "2\n"
     ]
    }
   ],
   "source": [
    "dict1 = {}\n",
    "\n",
    "n = int(input('Enter the number of key-value pairs'))\n",
    "for i in range(0,n):\n",
    "    key = input('Enter key ')\n",
    "    value = input('Enter value ')\n",
    "    dict1[key] = value\n",
    "\n",
    "fkey = input('Enter the key you want')\n",
    "f = 0\n",
    "for key in dict1.keys():\n",
    "    if key == fkey:\n",
    "        print(dict1[fkey])\n",
    "        f = 1\n",
    "if f == 0:\n",
    "    print('key does not exist')\n",
    "    value = input('Enter the value to add the key ')\n",
    "    dict1[fkey] = value\n",
    "    print(dict1)"
   ]
  },
  {
   "cell_type": "markdown",
   "id": "pacific-president",
   "metadata": {},
   "source": [
    "16. To remove a key from a dictionary."
   ]
  },
  {
   "cell_type": "code",
   "execution_count": 49,
   "id": "orange-injury",
   "metadata": {},
   "outputs": [
    {
     "name": "stdout",
     "output_type": "stream",
     "text": [
      "Enter the number of key-value pairs3\n",
      "Enter key 1\n",
      "Enter value 1\n",
      "Enter key 2\n",
      "Enter value 2\n",
      "Enter key 3\n",
      "Enter value 3\n",
      "Enter the key you want to remove4\n",
      "Key does not exist\n"
     ]
    }
   ],
   "source": [
    "dict1 = {}\n",
    "\n",
    "n = int(input('Enter the number of key-value pairs'))\n",
    "for i in range(0,n):\n",
    "    key = input('Enter key ')\n",
    "    value = input('Enter value ')\n",
    "    dict1[key] = value\n",
    "    \n",
    "fkey = input('Enter the key you want to remove')\n",
    "\n",
    "f = 0\n",
    "for key in dict1.keys():\n",
    "    if key == fkey:\n",
    "        f = 1\n",
    "        \n",
    "if f == 1:\n",
    "    dict1.pop(fkey)\n",
    "else:\n",
    "    print('Key does not exist')"
   ]
  },
  {
   "cell_type": "markdown",
   "id": "legislative-think",
   "metadata": {},
   "source": [
    "17. To print a dictionary and to check if a key exists in the dictionary. If the key exists, print the value else, add the key into the dictionary."
   ]
  },
  {
   "cell_type": "code",
   "execution_count": 50,
   "id": "suspected-assist",
   "metadata": {},
   "outputs": [
    {
     "name": "stdout",
     "output_type": "stream",
     "text": [
      "Enter the number of key-value pairs3\n",
      "Enter key 1\n",
      "Enter value 1\n",
      "Enter key 2\n",
      "Enter value 2\n",
      "Enter key 3\n",
      "Enter value 3\n",
      "Enter the key you want to check4\n",
      "Key does not exist\n",
      "Enter the value to add key4\n",
      "{'1': '1', '2': '2', '3': '3', '4': '4'}\n"
     ]
    }
   ],
   "source": [
    "dict1 = {}\n",
    "\n",
    "n = int(input('Enter the number of key-value pairs'))\n",
    "for i in range(0,n):\n",
    "    key = input('Enter key ')\n",
    "    value = input('Enter value ')\n",
    "    dict1[key] = value\n",
    "\n",
    "fkey = input('Enter the key you want to check')\n",
    "\n",
    "f = 0\n",
    "for key in dict1.keys():\n",
    "    if key == fkey:\n",
    "        f = 1\n",
    "        \n",
    "if f == 1:\n",
    "    print(dict1[fkey])\n",
    "else:\n",
    "    print('Key does not exist')\n",
    "    value = input('Enter the value to add key')\n",
    "    dict1[fkey] = value\n",
    "    print(dict1)"
   ]
  },
  {
   "cell_type": "markdown",
   "id": "charming-polymer",
   "metadata": {},
   "source": [
    "18. To sum all the items in a dictionary."
   ]
  },
  {
   "cell_type": "code",
   "execution_count": 51,
   "id": "simplified-following",
   "metadata": {},
   "outputs": [
    {
     "name": "stdout",
     "output_type": "stream",
     "text": [
      "Enter the number of key-value pairs3\n",
      "Enter key 1\n",
      "Enter value 1\n",
      "Enter key 2\n",
      "Enter value 2\n",
      "Enter key 3\n",
      "Enter value 3\n",
      "6\n"
     ]
    }
   ],
   "source": [
    "dict1 = {}\n",
    "\n",
    "n = int(input('Enter the number of key-value pairs'))\n",
    "for i in range(0,n):\n",
    "    key = input('Enter key ')\n",
    "    value = input('Enter value ')\n",
    "    dict1[key] = value\n",
    "\n",
    "sum = 0\n",
    "for val in dict1.values():\n",
    "    sum += int(val)\n",
    "print(sum)"
   ]
  },
  {
   "cell_type": "markdown",
   "id": "interracial-bubble",
   "metadata": {},
   "source": [
    "19. To convert a list of tuples into a dictionary."
   ]
  },
  {
   "cell_type": "code",
   "execution_count": 53,
   "id": "stainless-forest",
   "metadata": {},
   "outputs": [
    {
     "name": "stdout",
     "output_type": "stream",
     "text": [
      "{1: [2], 4: [5], 7: [8], 10: [11]}\n"
     ]
    }
   ],
   "source": [
    "sample_list = [(1,2),(4,5),(7,8),(10,11)]\n",
    "dict1 = {}\n",
    "for key,val in sample_list:\n",
    "    dict1.setdefault(key, []).append(val)\n",
    "\n",
    "print(dict1)"
   ]
  },
  {
   "cell_type": "markdown",
   "id": "olive-technical",
   "metadata": {},
   "source": [
    "20. To build a dictionary of words and their word counts in a sentence given by the user."
   ]
  },
  {
   "cell_type": "code",
   "execution_count": 55,
   "id": "expensive-airfare",
   "metadata": {},
   "outputs": [
    {
     "name": "stdout",
     "output_type": "stream",
     "text": [
      "Enter your sentenceSample sentence\n",
      "{'Sample': 6, 'sentence': 8}\n"
     ]
    }
   ],
   "source": [
    "sentence = input('Enter your sentence')\n",
    "temp_list = sentence.split(' ')\n",
    "dict1 = {x: len(x) for x in temp_list}\n",
    "print(dict1)"
   ]
  },
  {
   "cell_type": "code",
   "execution_count": null,
   "id": "brown-excellence",
   "metadata": {},
   "outputs": [],
   "source": []
  }
 ],
 "metadata": {
  "kernelspec": {
   "display_name": "Python 3",
   "language": "python",
   "name": "python3"
  },
  "language_info": {
   "codemirror_mode": {
    "name": "ipython",
    "version": 3
   },
   "file_extension": ".py",
   "mimetype": "text/x-python",
   "name": "python",
   "nbconvert_exporter": "python",
   "pygments_lexer": "ipython3",
   "version": "3.8.5"
  }
 },
 "nbformat": 4,
 "nbformat_minor": 5
}
