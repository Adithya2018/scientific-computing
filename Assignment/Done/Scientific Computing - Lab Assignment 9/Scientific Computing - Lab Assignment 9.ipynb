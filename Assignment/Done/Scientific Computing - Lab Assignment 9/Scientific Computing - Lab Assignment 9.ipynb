{
 "cells": [
  {
   "cell_type": "markdown",
   "metadata": {},
   "source": [
    "<h1><center>Scientific Computing-Lab Assignment 9</center></h1>\n",
    "<h1><center>Python Programming - matplotlib</center></h1>"
   ]
  },
  {
   "cell_type": "markdown",
   "metadata": {},
   "source": [
    "<b>Note<b>\n",
    "1. Don't copy from other assignments, you can refer codes available in internet.\n",
    "2. For similar copies marks will be 0 (zero).\n",
    "3. Try to complete all programs and display with given specifications\n",
    "4. Give appropriate messages for outputs.\n",
    "5. Marks will be awarded for good programming practices and proper display of results\n",
    "6. Submit assignment in html(or pdf) format, with all questions, codes and outputs visible.\n",
    "7. For given code snippets, you have to run it and modify if any comments are given\n",
    "8. For Programming questions include the questions also\n",
    "9. Assignment is complete only if 7 and 8 are included in submitting file\n",
    "10. You can include other images, animations and sections of your choice to improve quality of assignment (optional)"
   ]
  },
  {
   "cell_type": "markdown",
   "metadata": {},
   "source": [
    "## 1. Simple Plot"
   ]
  },
  {
   "cell_type": "code",
   "execution_count": null,
   "metadata": {},
   "outputs": [],
   "source": [
    "import matplotlib\n",
    "import matplotlib.pyplot as plt\n",
    "import numpy as np\n",
    "\n",
    "x=np.arange(10)\n",
    "y=x\n",
    "fig, ax = plt.subplots()\n",
    "ax.plot(x, y,label=\"$y=x$\")\n",
    "y=2*x\n",
    "ax.plot(x, y,label=\"$y=2*$x\")    \n",
    "#Refer https://matplotlib.org/stable/api/_as_gen/matplotlib.pyplot.plot.html\n",
    "#for more options\n",
    "y=x*x\n",
    "ax.plot(x, y,label=\"$y=x^2$\") \n",
    "ax.legend()\n",
    "ax.set(xlabel='X', ylabel='Y', title='')\n",
    "ax.grid()\n",
    "\n",
    "#fig.savefig(\"test.png\") #For saving fig in your system\n",
    "plt.show()"
   ]
  },
  {
   "cell_type": "markdown",
   "metadata": {},
   "source": [
    "## 2. Multiple Subplots"
   ]
  },
  {
   "cell_type": "code",
   "execution_count": null,
   "metadata": {},
   "outputs": [],
   "source": [
    "import numpy as np\n",
    "import matplotlib.pyplot as plt\n",
    "x1 = np.arange(10)\n",
    "x2 = np.arange(10)\n",
    "x3 = np.arange(10)\n",
    "\n",
    "y1 = x1\n",
    "y2 = 2*x2\n",
    "y3 = x3*x3\n",
    "\n",
    "fig, (ax1, ax2,ax3) = plt.subplots(3, 1)\n",
    "fig.suptitle('Different y wrt to x')\n",
    "\n",
    "ax1.plot(x1, y1)\n",
    "ax1.set_ylabel('y=x')\n",
    "\n",
    "ax2.plot(x2, y2)\n",
    "#ax2.set_xlabel('x')\n",
    "ax2.set_ylabel('y=2*x')\n",
    "\n",
    "ax3.plot(x3, y3)\n",
    "ax3.set_xlabel('x')\n",
    "ax3.set_ylabel('y=x^2')\n",
    "\n",
    "plt.show()"
   ]
  },
  {
   "cell_type": "markdown",
   "metadata": {},
   "source": [
    "## 3. Displaying image"
   ]
  },
  {
   "cell_type": "code",
   "execution_count": null,
   "metadata": {},
   "outputs": [],
   "source": [
    "import matplotlib\n",
    "import matplotlib.pyplot as plt\n",
    "import numpy as n\n",
    "image_file='test.png'  #change path according to your system\n",
    "image = plt.imread(image_file)\n",
    "fig, ax = plt.subplots()\n",
    "ax.imshow(image)\n",
    "ax.axis('off') "
   ]
  },
  {
   "cell_type": "markdown",
   "metadata": {},
   "source": [
    "## 4. Histogram"
   ]
  },
  {
   "cell_type": "code",
   "execution_count": null,
   "metadata": {},
   "outputs": [],
   "source": [
    "import numpy as np\n",
    "import matplotlib.pyplot as plt \n",
    "a = ['a', 'a', 'a', 'a', 'b', 'b', 'c', 'c', 'c', 'd', 'e', 'e', 'e', 'e', 'e','z']\n",
    "labels, counts = np.unique(a,return_counts=True)\n",
    "ticks = range(len(counts))\n",
    "plt.bar(ticks,counts, align='center')\n",
    "plt.xticks(ticks, labels)"
   ]
  },
  {
   "cell_type": "markdown",
   "metadata": {},
   "source": [
    "## 5. Piechart"
   ]
  },
  {
   "cell_type": "code",
   "execution_count": null,
   "metadata": {},
   "outputs": [],
   "source": [
    "import matplotlib.pyplot as plt\n",
    "labels = 'Internal', 'External'\n",
    "sizes = [80, 20]\n",
    "explode = (0, 0)  # try explode=(0,0.1)\n",
    "\n",
    "fig1, ax1 = plt.subplots()\n",
    "ax1.pie(sizes, explode=explode, labels=labels, autopct='%.1f%%')\n",
    "ax1.axis('equal')\n",
    "\n",
    "plt.show()"
   ]
  },
  {
   "cell_type": "markdown",
   "metadata": {},
   "source": [
    "## Write Python codes"
   ]
  },
  {
   "cell_type": "markdown",
   "metadata": {},
   "source": [
    "1. Single Plot time complexity n,logn,n*n, n^3, 2^n <br>\n",
    "Label x and y axis <br>\n",
    "Give legends <br>\n",
    "Give title <br>\n",
    "\n",
    "(Optional:Convert the same to an interactive plot such that when you click n and change x axis value the graph changes) <br>\n",
    "\n",
    "2. Multiple plot <br>\n",
    " Plot 1. Runs scored in y axis by Team A and overs in x axis (Runs between 0 and 10, overs from 1 to 50) <br>\n",
    " Plot 2. Runs scored in y axis by Team B and overs in x axis (Runs between 0 and 10, overs from 1 to 50) <br>\n",
    "(Note while plotting runs in n'th over, add run from first to n'th over) <br>\n",
    "Print which team won the match <br>\n",
    "\n",
    "3. Display the image of your system configuration <br>\n",
    "4. Histogram to plot runs scored in a 20 over match(Give random value between 0 and 15 as runs for each over) <br>\n",
    "5. Plot piechart for following data, Rent-7000, Grocery-3000, Transport-800, Electricity-300, Education-2000, Savings-1900 <br>\n",
    "(Note: Before plotting find percentage of each category)\n"
   ]
  }
 ],
 "metadata": {
  "kernelspec": {
   "display_name": "Python 3",
   "language": "python",
   "name": "python3"
  },
  "language_info": {
   "codemirror_mode": {
    "name": "ipython",
    "version": 3
   },
   "file_extension": ".py",
   "mimetype": "text/x-python",
   "name": "python",
   "nbconvert_exporter": "python",
   "pygments_lexer": "ipython3",
   "version": "3.8.5"
  }
 },
 "nbformat": 4,
 "nbformat_minor": 4
}
