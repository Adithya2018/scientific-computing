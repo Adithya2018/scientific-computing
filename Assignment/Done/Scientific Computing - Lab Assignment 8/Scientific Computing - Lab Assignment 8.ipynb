{
 "cells": [
  {
   "cell_type": "markdown",
   "metadata": {},
   "source": [
    "<h1><center>Scientific Computing-Lab Assignment 8</center></h1>\n",
    "<h1><center>Python Programming - SciPy</center></h1>"
   ]
  },
  {
   "cell_type": "markdown",
   "metadata": {},
   "source": [
    "<b>Note<b>\n",
    "1. Don't copy from other assignments, you can refer codes available in internet.\n",
    "2. For similar copies marks will be 0 (zero).\n",
    "3. Try to complete all programs and display with given specifications\n",
    "4. Give appropriate messages for outputs.\n",
    "5. Marks will be awarded for good programming practices and proper display of results\n",
    "6. Submit assignment in html(or pdf) format, with all questions, codes and outputs visible.\n",
    "7. For given code snippets, you have to run it and modify if any comments are given\n",
    "8. For Programming questions include the questions also\n",
    "9. Assignment is complete only if 7 and 8 are included in submitting file\n",
    "10. You can include other images, animations and sections of your choice to improve quality of assignment (optional)"
   ]
  },
  {
   "cell_type": "markdown",
   "metadata": {},
   "source": [
    "## 1. Compute several descriptive statistics of the passed array"
   ]
  },
  {
   "cell_type": "code",
   "execution_count": null,
   "metadata": {},
   "outputs": [],
   "source": [
    "import time\n",
    "start_time=time.time()\n",
    "import numpy as np\n",
    "from scipy import stats\n",
    "a = np.arange(10)\n",
    "stats.describe(a)\n",
    "b = [[1, 2], [3, 4]]\n",
    "print(stats.describe(a)) #try b instead of a\n",
    "print(\"Execution time \",time.time()-start_time)"
   ]
  },
  {
   "cell_type": "markdown",
   "metadata": {},
   "source": [
    "## 2. Find repeats and repeat counts"
   ]
  },
  {
   "cell_type": "code",
   "execution_count": null,
   "metadata": {},
   "outputs": [],
   "source": [
    "import time\n",
    "start_time=time.time()\n",
    "import numpy as np\n",
    "from scipy import stats\n",
    "print(stats.find_repeats([2, 1, 2, 3, 2, 2, 2])) #Replace last 2 with 3 \n",
    "print(\"Execution time \",time.time()-start_time)"
   ]
  },
  {
   "cell_type": "markdown",
   "metadata": {},
   "source": [
    "## 3. The Pearson correlation coefficient which measures the linear relationship between two datasets"
   ]
  },
  {
   "cell_type": "code",
   "execution_count": null,
   "metadata": {},
   "outputs": [],
   "source": [
    "import time\n",
    "start_time=time.time()\n",
    "import numpy as np\n",
    "from scipy import stats\n",
    "a = np.array([1, 2, 3, 4, 5, 6, 7])\n",
    "b = np.array([7, 6, 5, 4, 3, 2, 1]) #try [1,2,3,4,5,6,7]\n",
    "#b = np.arange(7)\n",
    "print(stats.pearsonr(a, b)[0])\n",
    "print(\"Execution time \",time.time()-start_time)"
   ]
  },
  {
   "cell_type": "markdown",
   "metadata": {},
   "source": [
    "## 4. Calculate a linear least-squares regression for two sets of measurements."
   ]
  },
  {
   "cell_type": "code",
   "execution_count": null,
   "metadata": {},
   "outputs": [],
   "source": [
    "import time\n",
    "start_time=time.time()\n",
    "import numpy as np\n",
    "from scipy import stats\n",
    "x = np.array([1, 2, 3, 4, 5, 6, 7])\n",
    "y = np.array([1,1,1,1,1,1,1]) #try [3,5,7,9,11,13,15]\n",
    "print(stats.linregress(x, y)[0:2])\n",
    "print(\"Execution time \",time.time()-start_time)"
   ]
  },
  {
   "cell_type": "markdown",
   "metadata": {},
   "source": [
    "## Write Python codes"
   ]
  },
  {
   "cell_type": "markdown",
   "metadata": {},
   "source": [
    "1. Create an array of 100 numbers randomly chosen between 32 and 42. <br>\n",
    "   Find the repeated elements and   its count using find_repeats()<br>\n",
    "2. Create an array of 126 numbers randomly chosen between 0 and 100. <br>\n",
    "   Describe the statistics of array <br>\n",
    "3. Create 2 arrays x and y of 10 numbers of your choice.<br>\n",
    "   Find the pearson coefficient of 2 datasets. <br>\n",
    "   Adjust x or y to print following output<br>\n",
    "   3.1 pearson cofficient = 1 <br>\n",
    "   3.2 pearson cofficient = -1 <br>\n",
    "   3.3 pearson cofficient = 0.5 <br>\n",
    "4. Create 2 arrays x and y of 25 numbers. <br>\n",
    "   Calculate slope and intercept using linear least-squares regression. <br>\n",
    "   For a new x and y value predict the output.<br>\n",
    "   Adjust x and y to print the following output <br>\n",
    "   4.1 slope=1, intercept=0 <br>\n",
    "   4.2 slope=0, intercept=1 <br>\n",
    "   4.3 slope=1, intercept=1 <br>\n",
    "\n",
    "Note : You can use any logic, but output must be aligned with given specifications"
   ]
  }
 ],
 "metadata": {
  "kernelspec": {
   "display_name": "Python 3",
   "language": "python",
   "name": "python3"
  },
  "language_info": {
   "codemirror_mode": {
    "name": "ipython",
    "version": 3
   },
   "file_extension": ".py",
   "mimetype": "text/x-python",
   "name": "python",
   "nbconvert_exporter": "python",
   "pygments_lexer": "ipython3",
   "version": "3.8.5"
  }
 },
 "nbformat": 4,
 "nbformat_minor": 4
}
