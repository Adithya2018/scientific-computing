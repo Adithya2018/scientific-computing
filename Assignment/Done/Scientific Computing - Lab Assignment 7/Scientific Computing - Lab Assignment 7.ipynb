{
 "cells": [
  {
   "cell_type": "markdown",
   "metadata": {},
   "source": [
    "<h1><center>Scientific Computing-Lab Assignment 7</center></h1>\n",
    "<h1><center>Python Programming - Linear Algebra in NumPy</center></h1>"
   ]
  },
  {
   "cell_type": "markdown",
   "metadata": {},
   "source": [
    "<b>Note<b>\n",
    "1. Don't copy from other assignments, you can refer codes available in internet.\n",
    "2. For similar copies marks will be 0 (zero).\n",
    "3. Try to complete all programs and display with given specifications\n",
    "4. Give appropriate messages for outputs.\n",
    "5. Marks will be awarded for good programming practices and proper display of results\n",
    "6. Submit assignment in html(or pdf) format, with all questions, codes and outputs visible.\n",
    "7. For given code snippets, you have to run it and modify if any comments are given\n",
    "8. For Programming questions include the questions also\n",
    "9. Assignment is complete only if 7 and 8 are included in submitting file\n",
    "10. You can include other images, animations and sections of your choice to improve quality of assignment (optional)"
   ]
  },
  {
   "cell_type": "markdown",
   "metadata": {},
   "source": [
    "## 1. Matrix and Vector Products"
   ]
  },
  {
   "cell_type": "markdown",
   "metadata": {},
   "source": [
    "### 1.1 Dot Product, Inner Product and Outer Product"
   ]
  },
  {
   "cell_type": "code",
   "execution_count": 1,
   "metadata": {},
   "outputs": [
    {
     "name": "stdout",
     "output_type": "stream",
     "text": [
      "12\n",
      "13\n",
      "[13]\n",
      "(-13+0j)\n",
      "[[4 1]\n",
      " [2 2]]\n",
      "6\n",
      "[[3. 0. 0. 0. 0. 0. 0. 0. 0. 0.]\n",
      " [0. 3. 0. 0. 0. 0. 0. 0. 0. 0.]\n",
      " [0. 0. 3. 0. 0. 0. 0. 0. 0. 0.]\n",
      " [0. 0. 0. 3. 0. 0. 0. 0. 0. 0.]\n",
      " [0. 0. 0. 0. 3. 0. 0. 0. 0. 0.]\n",
      " [0. 0. 0. 0. 0. 3. 0. 0. 0. 0.]\n",
      " [0. 0. 0. 0. 0. 0. 3. 0. 0. 0.]\n",
      " [0. 0. 0. 0. 0. 0. 0. 3. 0. 0.]\n",
      " [0. 0. 0. 0. 0. 0. 0. 0. 3. 0.]\n",
      " [0. 0. 0. 0. 0. 0. 0. 0. 0. 3.]]\n",
      "[[ 1  2  3  4  5  6]\n",
      " [ 2  4  6  8 10 12]\n",
      " [ 3  6  9 12 15 18]\n",
      " [ 4  8 12 16 20 24]\n",
      " [ 5 10 15 20 25 30]\n",
      " [ 6 12 18 24 30 36]]\n",
      "91\n",
      "Execution time  0.24634051322937012\n"
     ]
    }
   ],
   "source": [
    "import time\n",
    "start_time=time.time()\n",
    "import numpy as np\n",
    "print(np.dot(3,4))\n",
    "print(np.dot([2, 3], [2, 3]))\n",
    "print(np.dot([[2, 3]], [2, 3])) \n",
    "print(np.dot([2j, 3j], [2j, 3j]))\n",
    "a = [[1, 0], [0, 1]]  \n",
    "b = [[4, 1], [2, 2]]\n",
    "print(np.dot(a,b)) #instead of 2*2 matrix give matrices of size 2000*2000(all values 1)\n",
    "print(np.vdot(a,b)) #How vdot is working ?\n",
    "print(np.inner(np.eye(10),3))\n",
    "a=np.array([1,2,3,4,5,6])\n",
    "b=np.array([1,2,3,4,5,6])\n",
    "print(np.outer(a,b))\n",
    "print(np.inner(a,b)) #change b to np.array([1,2,3])\n",
    "print(\"Execution time \",time.time()-start_time)"
   ]
  },
  {
   "cell_type": "markdown",
   "metadata": {},
   "source": [
    "### 1.2 Matrix Multiplication, Trace, Diagonal and Transpose"
   ]
  },
  {
   "cell_type": "code",
   "execution_count": 2,
   "metadata": {},
   "outputs": [
    {
     "name": "stdout",
     "output_type": "stream",
     "text": [
      "Dot Product of a and b is  [[4 1]\n",
      " [2 2]]\n",
      "Dot Product of a and c is  [[7 0]\n",
      " [0 7]]\n",
      "Matrix a multiplied by Matrix b is  [[4 1]\n",
      " [2 2]]\n",
      "Trace of a is  2\n",
      "Diagonal elements of a  [1 1]\n",
      "Transpose of b [[4 2]\n",
      " [1 2]]\n",
      "Execution time  0.00099945068359375\n"
     ]
    }
   ],
   "source": [
    "import time\n",
    "start_time=time.time()\n",
    "import numpy as np\n",
    "a = [[1, 0], [0, 1]]  \n",
    "b = [[4, 1], [2, 2]]\n",
    "c=7\n",
    "print(\"Dot Product of a and b is \",np.dot(a,b))\n",
    "print(\"Dot Product of a and c is \",np.dot(a,c))\n",
    "print(\"Matrix a multiplied by Matrix b is \",np.matmul(a,b)) #instead of b give c\n",
    "print(\"Trace of a is \",np.trace(a))\n",
    "print(\"Diagonal elements of a \",np.diag(a))\n",
    "print(\"Transpose of b\",np.transpose(b))\n",
    "print(\"Execution time \",time.time()-start_time)"
   ]
  },
  {
   "cell_type": "markdown",
   "metadata": {},
   "source": [
    "### 1.3 Sum, Mean and Variance"
   ]
  },
  {
   "cell_type": "code",
   "execution_count": 3,
   "metadata": {},
   "outputs": [
    {
     "name": "stdout",
     "output_type": "stream",
     "text": [
      "Sum of b is  9\n",
      "Rowwise sum of b is  [5 4]\n",
      "Average of b is  2.25\n",
      "Rowwise average of b is  [2.5 2. ]\n",
      "Variance of b is  1.1875\n",
      "Rowwise variance of b is  [2.25 0.  ]\n",
      "Execution time  0.003000497817993164\n"
     ]
    }
   ],
   "source": [
    "import time\n",
    "start_time=time.time()\n",
    "import numpy as np\n",
    "a = [[1, 0], [0, 1]]  \n",
    "b = [[4, 1], [2, 2]]\n",
    "print(\"Sum of b is \",np.sum(b))\n",
    "print(\"Rowwise sum of b is \",np.sum(b,axis=1)) #Try axis=0\n",
    "print(\"Average of b is \",np.mean(b))\n",
    "print(\"Rowwise average of b is \",np.mean(b,axis=1)) #Try axis=0\n",
    "print(\"Variance of b is \",np.var(b))\n",
    "print(\"Rowwise variance of b is \",np.var(b,axis=1)) #Try axis=0\n",
    "print(\"Execution time \",time.time()-start_time)"
   ]
  },
  {
   "cell_type": "markdown",
   "metadata": {},
   "source": [
    "### 1.4 Kronecker Product"
   ]
  },
  {
   "cell_type": "code",
   "execution_count": 4,
   "metadata": {},
   "outputs": [
    {
     "name": "stdout",
     "output_type": "stream",
     "text": [
      "[[1. 1. 0. 0.]\n",
      " [1. 1. 0. 0.]\n",
      " [0. 0. 1. 1.]\n",
      " [0. 0. 1. 1.]]\n",
      "Execution time  0.0010008811950683594\n"
     ]
    }
   ],
   "source": [
    "import time\n",
    "start_time=time.time()\n",
    "import numpy as np\n",
    "print(np.kron(np.eye(2), np.ones((2,2))))\n",
    "print(\"Execution time \",time.time()-start_time)"
   ]
  },
  {
   "cell_type": "markdown",
   "metadata": {},
   "source": [
    "## 2. Linear algebra Library"
   ]
  },
  {
   "cell_type": "markdown",
   "metadata": {},
   "source": [
    "### 2.1 Power, Determinant, Inverse, Rank of a Matrix"
   ]
  },
  {
   "cell_type": "code",
   "execution_count": 5,
   "metadata": {},
   "outputs": [
    {
     "name": "stdout",
     "output_type": "stream",
     "text": [
      "[[13 46]\n",
      " [23 82]]\n",
      "2\n",
      "2.0\n",
      "[[ 2.  -1. ]\n",
      " [-0.5  0.5]]\n",
      "Execution time  0.010221481323242188\n"
     ]
    }
   ],
   "source": [
    "import time\n",
    "start_time=time.time()\n",
    "import numpy as np \n",
    "a=np.array([[1 ,2],[1,4]])  #change [1,4] to [2,4]\n",
    "print(np.linalg.matrix_power(a,3)) #Try 15 instead of 3\n",
    "print(np.linalg.matrix_rank(a))\n",
    "print(np.linalg.det(a)) #type output to int\n",
    "print(np.linalg.inv(a))\n",
    "print(\"Execution time \",time.time()-start_time)"
   ]
  },
  {
   "cell_type": "markdown",
   "metadata": {},
   "source": [
    "### 2.2 Solve the system of equations a + 2 * b = 1 and 3 * a + 5 * b = 2"
   ]
  },
  {
   "cell_type": "code",
   "execution_count": 6,
   "metadata": {},
   "outputs": [
    {
     "name": "stdout",
     "output_type": "stream",
     "text": [
      "[-1.  1.]\n",
      "-0.9999999999999994 0.9999999999999997\n",
      "True\n",
      "Execution time  0.0019998550415039062\n"
     ]
    }
   ],
   "source": [
    "import time\n",
    "start_time=time.time()\n",
    "import numpy as np \n",
    "A = np.array([[1, 2], [3, 5]]) #instead of [3,5] give [2,4]\n",
    "B = np.array([1, 2])\n",
    "X = np.linalg.solve(A, B)\n",
    "print(X)\n",
    "a=X[0]\n",
    "b=X[1]\n",
    "print(a,b)\n",
    "print(np.allclose(np.dot(A, X), B)) #checking whether solution is true\n",
    "print(\"Execution time \",time.time()-start_time)"
   ]
  },
  {
   "cell_type": "markdown",
   "metadata": {},
   "source": [
    "### 2.3 Eigen Value and Eigen Vector"
   ]
  },
  {
   "cell_type": "code",
   "execution_count": 7,
   "metadata": {},
   "outputs": [
    {
     "name": "stdout",
     "output_type": "stream",
     "text": [
      "[[1 0 0]\n",
      " [0 2 0]\n",
      " [0 0 3]]\n",
      "[1. 2. 3.]\n",
      "[[1. 0. 0.]\n",
      " [0. 1. 0.]\n",
      " [0. 0. 1.]]\n",
      "Execution time  0.005001544952392578\n"
     ]
    }
   ],
   "source": [
    "import time\n",
    "start_time=time.time()\n",
    "import numpy as np \n",
    "a=np.diag((1,2,3)) #change (1,2,3) to (1,2,3,4)\n",
    "#a=np.array([[1,2],[3,4]]) Try this also\n",
    "print(a)\n",
    "w,v=np.linalg.eig(a)\n",
    "print(w)\n",
    "print(v)\n",
    "print(\"Execution time \",time.time()-start_time)"
   ]
  },
  {
   "cell_type": "markdown",
   "metadata": {},
   "source": [
    "## 3. Polynomials"
   ]
  },
  {
   "cell_type": "markdown",
   "metadata": {},
   "source": [
    "### 3.1 Representing a polynomial and evaluating it's value"
   ]
  },
  {
   "cell_type": "code",
   "execution_count": 8,
   "metadata": {},
   "outputs": [
    {
     "name": "stdout",
     "output_type": "stream",
     "text": [
      "   2\n",
      "1 x + 2 x + 3\n",
      "38\n",
      "   2\n",
      "2 x + 4 x + 6\n",
      "Execution time  0.0009887218475341797\n"
     ]
    }
   ],
   "source": [
    "import time\n",
    "start_time=time.time()\n",
    "import numpy as np \n",
    "p = np.poly1d([1, 2, 3])\n",
    "print(np.poly1d(p))\n",
    "print(np.polyval(p,5))  #Evaluate polynomial at value 7\n",
    "print(np.polyadd(p,p)) #try polysub, polydiv,polymul\n",
    "print(\"Execution time \",time.time()-start_time)"
   ]
  },
  {
   "cell_type": "code",
   "execution_count": 9,
   "metadata": {},
   "outputs": [
    {
     "name": "stdout",
     "output_type": "stream",
     "text": [
      "[ 1 -2  1]\n",
      "[1. 1.]\n",
      "Execution time  0.001999378204345703\n"
     ]
    }
   ],
   "source": [
    "import time\n",
    "start_time=time.time()\n",
    "import numpy as np\n",
    "p = np.poly1d([1, -2, 1]) #Design polynomial to produce imaginary roots\n",
    "print(p.c)  #print coefficients of polynomial\n",
    "print(np.roots(p))\n",
    "print(\"Execution time \",time.time()-start_time)"
   ]
  },
  {
   "cell_type": "markdown",
   "metadata": {},
   "source": [
    "### 3.2 Least Square Polynomial fit"
   ]
  },
  {
   "cell_type": "code",
   "execution_count": 10,
   "metadata": {},
   "outputs": [
    {
     "name": "stdout",
     "output_type": "stream",
     "text": [
      "[ 2.00000000e+00 -8.46295243e-17]\n",
      "13.999999999999996\n",
      "Execution time  0.0010004043579101562\n"
     ]
    }
   ],
   "source": [
    "import time\n",
    "start_time=time.time()\n",
    "import numpy as np\n",
    "x = np.array([0.0, 1.0, 2.0, 3.0,  4.0,  5.0])\n",
    "y = np.array([0.0, 2.0, 4.0, 6.0, 8.0, 10.0])  #Clearly y=2x\n",
    "z = np.polyfit(x, y,1) #Change 1 to 2\n",
    "print(z)\n",
    "print(np.poly1d(z)(7))\n",
    "print(\"Execution time \",time.time()-start_time)"
   ]
  },
  {
   "cell_type": "markdown",
   "metadata": {},
   "source": [
    "## Write Python codes"
   ]
  },
  {
   "cell_type": "markdown",
   "metadata": {},
   "source": [
    "1. Create 100 polynomials of following specification <br>\n",
    "   First polynomial is x^99 + 1 <br>\n",
    "   Second polynomial is x^99 + x <br>\n",
    "   ..... <br>\n",
    "   99'th polynomial is x^99 + x^98 <br>\n",
    "   100'th polynomial is x^99 <br>\n",
    "2. Store the coefficients to a matrix of size 100 * 100 <br>\n",
    "3. Find rank of 100*100 matrix <br>\n",
    "4. Write a function to extract any particular block in  that 100 *100 matrix <br>\n",
    "5. Find the inverse of first 3 by 3 matrix(starting from 0,0) of that 100*100 matrix <br>\n",
    "\n",
    "Note : You can use any logic, but output must be aligned with given specifications"
   ]
  },
  {
   "cell_type": "markdown",
   "metadata": {},
   "source": [
    "# Solutions"
   ]
  },
  {
   "cell_type": "code",
   "execution_count": null,
   "metadata": {},
   "outputs": [],
   "source": [
    "# Question 1\n"
   ]
  }
 ],
 "metadata": {
  "kernelspec": {
   "display_name": "Python 3",
   "language": "python",
   "name": "python3"
  },
  "language_info": {
   "codemirror_mode": {
    "name": "ipython",
    "version": 3
   },
   "file_extension": ".py",
   "mimetype": "text/x-python",
   "name": "python",
   "nbconvert_exporter": "python",
   "pygments_lexer": "ipython3",
   "version": "3.8.5"
  }
 },
 "nbformat": 4,
 "nbformat_minor": 4
}
