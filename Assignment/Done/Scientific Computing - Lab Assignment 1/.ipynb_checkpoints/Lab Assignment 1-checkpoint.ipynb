{
 "cells": [
  {
   "cell_type": "markdown",
   "id": "median-moore",
   "metadata": {},
   "source": [
    "**Name:** Adithyan S Raj"
   ]
  },
  {
   "cell_type": "markdown",
   "id": "collective-boutique",
   "metadata": {},
   "source": [
    "**Roll No:** AM.EN.U4CSE17510"
   ]
  },
  {
   "cell_type": "markdown",
   "id": "brazilian-schema",
   "metadata": {},
   "source": [
    "### Programs and Answers"
   ]
  },
  {
   "cell_type": "markdown",
   "id": "cellular-company",
   "metadata": {},
   "source": [
    "Qno 1: Write a program in python to see whether a number is divisible by 7 or not."
   ]
  },
  {
   "cell_type": "code",
   "execution_count": 1,
   "id": "acceptable-package",
   "metadata": {},
   "outputs": [
    {
     "name": "stdout",
     "output_type": "stream",
     "text": [
      "Enter a number5\n",
      "It is not divisible\n"
     ]
    }
   ],
   "source": [
    "number = int(input('Enter a number'))\n",
    "if number % 7 == 0:\n",
    "    print('The Number is divisible by 7')\n",
    "else:\n",
    "    print('It is not divisible')"
   ]
  },
  {
   "cell_type": "markdown",
   "id": "comic-mills",
   "metadata": {},
   "source": [
    "<br>"
   ]
  },
  {
   "cell_type": "markdown",
   "id": "pleasant-fantasy",
   "metadata": {},
   "source": [
    "Qno 2: Write a program to see whether a number is even or odd."
   ]
  },
  {
   "cell_type": "code",
   "execution_count": 2,
   "id": "prescribed-consequence",
   "metadata": {},
   "outputs": [
    {
     "name": "stdout",
     "output_type": "stream",
     "text": [
      "Enter a number9\n",
      "Odd\n"
     ]
    }
   ],
   "source": [
    "number = int(input('Enter a number'))\n",
    "if number % 2 == 0:\n",
    "    print('Even')\n",
    "else:\n",
    "    print('Odd')"
   ]
  },
  {
   "cell_type": "markdown",
   "id": "increasing-salem",
   "metadata": {},
   "source": [
    "<br>"
   ]
  },
  {
   "cell_type": "markdown",
   "id": "immediate-reform",
   "metadata": {},
   "source": [
    "Qno 3: Write a python program to input marks of five subjects Physics, Chemistry, Biology,\n",
    "Mathematics and Computer. Calculate percentage and grade according to following:\n",
    " * Percentage >= 90% : Grade A\n",
    " * Percentage >= 80% : Grade B\n",
    " * Percentage >= 70% : Grade C\n",
    " * Percentage >= 60% : Grade D\n",
    " * Percentage >= 40% : Grade E\n",
    " * Percentage < 40% : Grade F\n",
    " * NB:- Marks ranges from 0 – 100. \n",
    " * Need to check for the invalid inputs."
   ]
  },
  {
   "cell_type": "code",
   "execution_count": 19,
   "id": "expanded-cancer",
   "metadata": {},
   "outputs": [
    {
     "name": "stdout",
     "output_type": "stream",
     "text": [
      "Enter your Physics score (0-100)23\n",
      "Enter your Chemistry score (0-100)45\n",
      "Enter your Biology score (0-100)67\n",
      "Enter your Mathematics score (0-100)78\n",
      "Enter your Computer score (0-100)88\n",
      "\n",
      "Physics - 23\n",
      "Chemistry - 45\n",
      "Biology - 67\n",
      "Mathematics - 78\n",
      "Computer - 88\n",
      "\n",
      "Average - 60.2\n",
      "\n",
      "Grade D\n"
     ]
    }
   ],
   "source": [
    "n = 0\n",
    "subjects = ['Physics', 'Chemistry', 'Biology', 'Mathematics', 'Computer']\n",
    "marks = [0, 0, 0, 0, 0]\n",
    "\n",
    "while n < 5:\n",
    "    marks[n] = int(input('Enter your ' + subjects[n] + ' score (0-100)'))\n",
    "    while marks[n] > 100 or marks[n] < 0:\n",
    "        marks[n] = int(input('Enter a score between 0 and 100'))\n",
    "    n += 1\n",
    "    \n",
    "average = 0.0\n",
    "for i in marks:\n",
    "    average += i\n",
    "average /= 5\n",
    "    \n",
    "print()\n",
    "n = 0\n",
    "while n < 5:\n",
    "    print(subjects[n] + ' - ' + str(marks[n]))\n",
    "    n += 1\n",
    "print()\n",
    "print('Average - ' + str(average))\n",
    "print()\n",
    "if average >= 90:\n",
    "    print('Grade A')\n",
    "elif average >= 80:\n",
    "    print('Grade B')\n",
    "elif average >= 70:\n",
    "    print('Grade C')\n",
    "elif average >= 60:\n",
    "    print('Grade D')\n",
    "elif average >= 40:\n",
    "    print('Grade E')\n",
    "else:\n",
    "    print('Grade F')\n"
   ]
  },
  {
   "cell_type": "markdown",
   "id": "chronic-motivation",
   "metadata": {},
   "source": [
    "<br>"
   ]
  },
  {
   "cell_type": "markdown",
   "id": "postal-passage",
   "metadata": {},
   "source": [
    "Qno 4: Write a python program to input basic salary of an employee and calculate its Gross\n",
    "salary according to following:\n",
    "- Basic Salary <= 10000 : HRA = 20%, DA = 10%\n",
    "- Basic Salary <= 20000 : HRA = 25%, DA = 15%\n",
    "- Basic Salary > 20000 : HRA = 30%, DA = 20%"
   ]
  },
  {
   "cell_type": "code",
   "execution_count": 23,
   "id": "swiss-siemens",
   "metadata": {},
   "outputs": [
    {
     "name": "stdout",
     "output_type": "stream",
     "text": [
      "Enter your basic salary34555\n",
      "\n",
      "Gross salary 51832.5\n"
     ]
    }
   ],
   "source": [
    "salary = int(input('Enter your basic salary'))\n",
    "gross_salary = 0.0\n",
    "if salary <= 10000:\n",
    "    gross_salary = salary + salary * 0.2 + salary * 0.1\n",
    "elif salary <= 20000:\n",
    "    gross_salary = salary + salary * 0.25 + salary * 0.15\n",
    "else:\n",
    "    gross_salary = salary + salary * 0.3 + salary * 0.2\n",
    "print()\n",
    "print('Gross salary ' + str(gross_salary))"
   ]
  },
  {
   "cell_type": "markdown",
   "id": "afraid-surgeon",
   "metadata": {},
   "source": [
    "<br>"
   ]
  },
  {
   "cell_type": "markdown",
   "id": "domestic-legislation",
   "metadata": {},
   "source": [
    "Qno 5: Write a python program to input electricity unit charges and calculate total\n",
    "electricity bill according to the given condition:\n",
    "- For first 50 units Rs. 0.50/unit\n",
    "- For next 100 units Rs. 0.75/unit\n",
    "- For next 100 units Rs. 1.20/unit\n",
    "- For unit above 250 Rs. 1.50/unit, \n",
    "- An additional surcharge of 20% is added to the bill"
   ]
  },
  {
   "cell_type": "code",
   "execution_count": 25,
   "id": "dramatic-screening",
   "metadata": {},
   "outputs": [
    {
     "name": "stdout",
     "output_type": "stream",
     "text": [
      "Enter No of units of electricity consumed200\n",
      "\n",
      "Total Electricity bill is ₹200.0\n"
     ]
    }
   ],
   "source": [
    "units = int(input('Enter No of units of electricity consumed'))\n",
    "tot_bill = 0.0\n",
    "if units <= 50:\n",
    "    tot_bill = units * 0.50 + units * 0.20\n",
    "elif units <= 150:\n",
    "    tot_bill = (50 * 0.50) + ((units - 50) * 0.75) + (units * 0.20)\n",
    "elif units <= 250:\n",
    "    tot_bill = (50 * 0.50) + (100 * 0.75) + (units - 150) * 1.2 + (units * 0.20) \n",
    "else:\n",
    "    tot_bill = (50 * 0.50) + (100 * 0.75) + (250 * 1.20) + (units - 250) * 1.50 + (units * 0.20)\n",
    "\n",
    "print()\n",
    "print('Total Electricity bill is ₹' + str(tot_bill))\n",
    "    "
   ]
  },
  {
   "cell_type": "markdown",
   "id": "aging-integer",
   "metadata": {},
   "source": [
    "<br>"
   ]
  },
  {
   "cell_type": "markdown",
   "id": "peaceful-asset",
   "metadata": {},
   "source": [
    "Qno 6: Write a python program to print all natural numbers from 1 to n using while & for\n",
    "loop."
   ]
  },
  {
   "cell_type": "code",
   "execution_count": 30,
   "id": "selective-spoke",
   "metadata": {},
   "outputs": [
    {
     "name": "stdout",
     "output_type": "stream",
     "text": [
      "Enter n 5\n",
      "\n",
      "For loop\n",
      "1\n",
      "2\n",
      "3\n",
      "4\n",
      "5\n",
      "\n",
      "While loop\n",
      "1\n",
      "2\n",
      "3\n",
      "4\n",
      "5\n"
     ]
    }
   ],
   "source": [
    "n = int(input('Enter n '))\n",
    "print()\n",
    "print('For loop')\n",
    "for i in range(1, n+1):\n",
    "    print(i)\n",
    "print()\n",
    "print('While loop')\n",
    "i = 1\n",
    "while i <= n:\n",
    "    print(i)\n",
    "    i += 1"
   ]
  },
  {
   "cell_type": "markdown",
   "id": "accessible-insert",
   "metadata": {},
   "source": [
    "<br>"
   ]
  },
  {
   "cell_type": "markdown",
   "id": "manual-garden",
   "metadata": {},
   "source": [
    "Qno 7: Write a python program to find sum of all even numbers between 1 to n."
   ]
  },
  {
   "cell_type": "code",
   "execution_count": 29,
   "id": "automated-choir",
   "metadata": {},
   "outputs": [
    {
     "name": "stdout",
     "output_type": "stream",
     "text": [
      "Enter n 50\n",
      "\n",
      "Sum is 650\n"
     ]
    }
   ],
   "source": [
    "n = int(input('Enter n '))\n",
    "s = 0\n",
    "for i in range(2, n + 1):\n",
    "    if i % 2 == 0:\n",
    "        s += i\n",
    "print()\n",
    "print('Sum is ' + str(s))"
   ]
  },
  {
   "cell_type": "markdown",
   "id": "enclosed-platinum",
   "metadata": {},
   "source": [
    "<br>"
   ]
  },
  {
   "cell_type": "markdown",
   "id": "demographic-laugh",
   "metadata": {},
   "source": [
    "Qno 8: Write a python program to check whether a number is palindrome or not."
   ]
  },
  {
   "cell_type": "code",
   "execution_count": 37,
   "id": "conventional-darkness",
   "metadata": {},
   "outputs": [
    {
     "name": "stdout",
     "output_type": "stream",
     "text": [
      "Enter number:23456\n",
      "The number isn't a palindrome!\n"
     ]
    }
   ],
   "source": [
    "n=int(input(\"Enter number:\"))\n",
    "temp=n\n",
    "rev=0\n",
    "while(n>0):\n",
    "    dig=n%10\n",
    "    rev=rev*10+dig\n",
    "    n=n//10\n",
    "if(temp==rev):\n",
    "    print(\"The number is a palindrome!\")\n",
    "else:\n",
    "    print(\"The number isn't a palindrome!\")"
   ]
  },
  {
   "cell_type": "markdown",
   "id": "comfortable-stuff",
   "metadata": {},
   "source": [
    "Qno 9: Write a python program to print multiplication table of a given number.\n",
    "NB: If the given number is 5 then the output should be in the following format:  \n",
    "    1 x 5 = 5  \n",
    "    2 x 5 = 10  \n",
    "    .................  \n",
    "    .................  \n",
    "    10 x 5 = 50  "
   ]
  },
  {
   "cell_type": "code",
   "execution_count": 39,
   "id": "awful-department",
   "metadata": {},
   "outputs": [
    {
     "name": "stdout",
     "output_type": "stream",
     "text": [
      "Enter a number 5\n",
      "1 x 5 = 5\n",
      "2 x 5 = 10\n",
      "3 x 5 = 15\n",
      "4 x 5 = 20\n",
      "5 x 5 = 25\n",
      "6 x 5 = 30\n",
      "7 x 5 = 35\n",
      "8 x 5 = 40\n",
      "9 x 5 = 45\n",
      "10 x 5 = 50\n"
     ]
    }
   ],
   "source": [
    "n = int(input('Enter a number '))\n",
    "for i in range(1, 11):\n",
    "    print(str(i) + ' x ' + str(n) + ' = ' + str(i*n))"
   ]
  },
  {
   "cell_type": "markdown",
   "id": "empty-digest",
   "metadata": {},
   "source": [
    "Qno 10: Write a python program to calculate factorial of a number."
   ]
  },
  {
   "cell_type": "code",
   "execution_count": 41,
   "id": "asian-music",
   "metadata": {},
   "outputs": [
    {
     "name": "stdout",
     "output_type": "stream",
     "text": [
      "Enter a number 5\n",
      "\n",
      "Factorial of 5 is 120\n"
     ]
    }
   ],
   "source": [
    "n = int(input('Enter a number '))\n",
    "fact = 1\n",
    "print()\n",
    "for i in range(1, n + 1):\n",
    "    fact = fact * i\n",
    "print('Factorial of ' + str(n) + ' is ' + str(fact))"
   ]
  },
  {
   "cell_type": "markdown",
   "id": "inner-emerald",
   "metadata": {},
   "source": [
    "<br>"
   ]
  },
  {
   "cell_type": "markdown",
   "id": "spatial-shelter",
   "metadata": {},
   "source": [
    "Qno 11: Write a python program to check whether a number is Prime number or not."
   ]
  },
  {
   "cell_type": "code",
   "execution_count": 47,
   "id": "dirty-wright",
   "metadata": {
    "scrolled": true
   },
   "outputs": [
    {
     "name": "stdout",
     "output_type": "stream",
     "text": [
      "Enter a number 4\n",
      "It is a composite number\n"
     ]
    }
   ],
   "source": [
    "n = int(input('Enter a number '))\n",
    "temp = 0\n",
    "for i in range(2, int(n/2) + 1):\n",
    "    if n % i == 0:\n",
    "        temp = 1\n",
    "if temp == 1:\n",
    "    print('It is a composite number')\n",
    "else:\n",
    "    print('It is a prime number')"
   ]
  },
  {
   "cell_type": "markdown",
   "id": "supported-valentine",
   "metadata": {},
   "source": [
    "<br>"
   ]
  },
  {
   "cell_type": "markdown",
   "id": "mechanical-magazine",
   "metadata": {},
   "source": [
    "Qno 12: Write a python program to print all Prime numbers between 1 to n."
   ]
  },
  {
   "cell_type": "code",
   "execution_count": 50,
   "id": "pleased-compact",
   "metadata": {},
   "outputs": [
    {
     "name": "stdout",
     "output_type": "stream",
     "text": [
      "Enter n 50\n",
      "2\n",
      "3\n",
      "5\n",
      "7\n",
      "11\n",
      "13\n",
      "17\n",
      "19\n",
      "23\n",
      "29\n",
      "31\n",
      "37\n",
      "41\n",
      "43\n",
      "47\n"
     ]
    }
   ],
   "source": [
    "n = int(input('Enter n '))\n",
    "for j in range(2, n + 1):\n",
    "    temp = 0\n",
    "    for i in range(2, int(j/2) + 1):\n",
    "        if j % i == 0:\n",
    "            temp = 1\n",
    "    if temp == 0:\n",
    "        print(j)"
   ]
  },
  {
   "cell_type": "markdown",
   "id": "waiting-medicaid",
   "metadata": {},
   "source": [
    "<br>"
   ]
  },
  {
   "cell_type": "markdown",
   "id": "fourth-voltage",
   "metadata": {},
   "source": [
    "Qno 13: Write a python program to check whether a number is Armstrong number or not.  \n",
    "eg:- 153 is an Armstrong number. Because, 1^3 + 5^3 + 3^3 = 153"
   ]
  },
  {
   "cell_type": "code",
   "execution_count": 53,
   "id": "iraqi-garden",
   "metadata": {},
   "outputs": [
    {
     "name": "stdout",
     "output_type": "stream",
     "text": [
      "Enter number:12\n",
      "12 is not an Armstrong Number.\n"
     ]
    }
   ],
   "source": [
    "n=int(input(\"Enter number:\"))\n",
    "temp=n\n",
    "s=0\n",
    "while(n>0):\n",
    "    dig=n%10\n",
    "    s+=(dig*dig*dig)\n",
    "    n=n//10\n",
    "if s == temp:\n",
    "    print(str(temp) + ' is an Armstrong Number.')\n",
    "else:\n",
    "    print(str(temp) + ' is not an Armstrong Number.')"
   ]
  },
  {
   "cell_type": "markdown",
   "id": "female-warning",
   "metadata": {},
   "source": [
    "<br>"
   ]
  },
  {
   "cell_type": "markdown",
   "id": "subject-designation",
   "metadata": {},
   "source": [
    "Qno 14: Write a python program to print Fibonacci series up to n terms."
   ]
  },
  {
   "cell_type": "code",
   "execution_count": 57,
   "id": "found-austin",
   "metadata": {},
   "outputs": [
    {
     "name": "stdout",
     "output_type": "stream",
     "text": [
      "Enter n 20\n",
      "0\n",
      "1\n",
      "1\n",
      "2\n",
      "3\n",
      "5\n",
      "8\n",
      "13\n",
      "21\n",
      "34\n",
      "55\n",
      "89\n",
      "144\n",
      "233\n",
      "377\n",
      "610\n",
      "987\n",
      "1597\n",
      "2584\n",
      "4181\n"
     ]
    }
   ],
   "source": [
    "n=int(input(\"Enter n \"))\n",
    "f = 0\n",
    "s = 1\n",
    "if n == 1:\n",
    "    print(f)\n",
    "elif n == 2:\n",
    "    print(f)\n",
    "    print(s)\n",
    "else:\n",
    "    print(f)\n",
    "    print(s)\n",
    "    for i in range(3, n+1):\n",
    "        print(f+s)\n",
    "        temp = f\n",
    "        f = s \n",
    "        s = temp + s\n",
    "        "
   ]
  },
  {
   "cell_type": "markdown",
   "id": "magnetic-auditor",
   "metadata": {},
   "source": [
    "<br>"
   ]
  },
  {
   "cell_type": "markdown",
   "id": "equipped-supervisor",
   "metadata": {},
   "source": [
    "Qno 15: Write a python program to solve Quadratic Equation"
   ]
  },
  {
   "cell_type": "code",
   "execution_count": 58,
   "id": "competitive-beach",
   "metadata": {},
   "outputs": [
    {
     "name": "stdout",
     "output_type": "stream",
     "text": [
      "Enter a 1\n",
      "Enter b 2\n",
      "Enter c 1\n",
      "The solution are (-1+0j) and (-1+0j)\n"
     ]
    }
   ],
   "source": [
    "import cmath\n",
    "\n",
    "a = float(input('Enter a '))\n",
    "b = float(input('Enter b '))\n",
    "c = float(input('Enter c '))\n",
    "\n",
    "# calculate the discriminant\n",
    "d = (b**2) - (4*a*c)\n",
    "\n",
    "# find two solutions\n",
    "sol1 = (-b-cmath.sqrt(d))/(2*a)\n",
    "sol2 = (-b+cmath.sqrt(d))/(2*a)\n",
    "\n",
    "print('The solution are {0} and {1}'.format(sol1,sol2))"
   ]
  }
 ],
 "metadata": {
  "kernelspec": {
   "display_name": "Python 3",
   "language": "python",
   "name": "python3"
  },
  "language_info": {
   "codemirror_mode": {
    "name": "ipython",
    "version": 3
   },
   "file_extension": ".py",
   "mimetype": "text/x-python",
   "name": "python",
   "nbconvert_exporter": "python",
   "pygments_lexer": "ipython3",
   "version": "3.8.5"
  }
 },
 "nbformat": 4,
 "nbformat_minor": 5
}
