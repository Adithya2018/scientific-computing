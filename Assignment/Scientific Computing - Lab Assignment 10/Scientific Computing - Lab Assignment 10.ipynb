{
 "cells": [
  {
   "cell_type": "markdown",
   "metadata": {},
   "source": [
    "<h1><center>Scientific Computing-Lab Assignment 10</center></h1>\n",
    "<h1><center>Python Programming - pandas</center></h1>"
   ]
  },
  {
   "cell_type": "markdown",
   "metadata": {},
   "source": [
    "<b>Note<b>\n",
    "1. Don't copy from other assignments, you can refer codes available in internet.\n",
    "2. For similar copies marks will be 0 (zero).\n",
    "3. Try to complete all programs and display with given specifications\n",
    "4. Give appropriate messages for outputs.\n",
    "5. Marks will be awarded for good programming practices and proper display of results\n",
    "6. Submit assignment in html(or pdf) format, with all questions, codes and outputs visible.\n",
    "7. For given code snippets, you have to run it and modify if any comments are given\n",
    "8. For Programming questions include the questions also\n",
    "9. Assignment is complete only if 7 and 8 are included in submitting file\n",
    "10. You can include other images, animations and sections of your choice to improve quality of assignment (optional)"
   ]
  },
  {
   "cell_type": "markdown",
   "metadata": {},
   "source": [
    "## Data Analysis using pandas"
   ]
  },
  {
   "cell_type": "code",
   "execution_count": null,
   "metadata": {},
   "outputs": [],
   "source": [
    "import pandas as pd\n",
    "df = pd.read_csv('covid_19_data.csv')  #reading from a csv file"
   ]
  },
  {
   "cell_type": "code",
   "execution_count": null,
   "metadata": {},
   "outputs": [],
   "source": [
    "df.head()   #display first 5 rows"
   ]
  },
  {
   "cell_type": "code",
   "execution_count": null,
   "metadata": {},
   "outputs": [],
   "source": [
    "df.tail()  #display last 5 rows"
   ]
  },
  {
   "cell_type": "code",
   "execution_count": null,
   "metadata": {},
   "outputs": [],
   "source": [
    "len(df)  #No of rows"
   ]
  },
  {
   "cell_type": "code",
   "execution_count": null,
   "metadata": {},
   "outputs": [],
   "source": [
    "df.columns  #checking columnane"
   ]
  },
  {
   "cell_type": "code",
   "execution_count": null,
   "metadata": {},
   "outputs": [],
   "source": [
    "df['Province/State']   #displaying specific column"
   ]
  },
  {
   "cell_type": "code",
   "execution_count": null,
   "metadata": {},
   "outputs": [],
   "source": [
    "df.iloc[0] #displaying specific row"
   ]
  },
  {
   "cell_type": "code",
   "execution_count": null,
   "metadata": {},
   "outputs": [],
   "source": [
    "df.dtypes #datatypes of each column"
   ]
  },
  {
   "cell_type": "code",
   "execution_count": null,
   "metadata": {},
   "outputs": [],
   "source": [
    "df['Deaths'].sum() #Finding sum of particular column"
   ]
  },
  {
   "cell_type": "code",
   "execution_count": null,
   "metadata": {},
   "outputs": [],
   "source": [
    "df1 = df.drop_duplicates(subset=['Country/Region']) #To print unique values\n",
    "print (df1)"
   ]
  },
  {
   "cell_type": "code",
   "execution_count": null,
   "metadata": {},
   "outputs": [],
   "source": [
    "df.dropna(inplace=True) \n",
    "#to drop all rows with Nan values, inplace =True means actual dataframe is modified"
   ]
  },
  {
   "cell_type": "code",
   "execution_count": null,
   "metadata": {},
   "outputs": [],
   "source": [
    "len(df)"
   ]
  },
  {
   "cell_type": "code",
   "execution_count": null,
   "metadata": {},
   "outputs": [],
   "source": [
    "df.isnull()"
   ]
  },
  {
   "cell_type": "code",
   "execution_count": null,
   "metadata": {},
   "outputs": [],
   "source": [
    "df['ObservationDate'] = pd.to_datetime(df['ObservationDate'], infer_datetime_format=True)"
   ]
  },
  {
   "cell_type": "code",
   "execution_count": null,
   "metadata": {},
   "outputs": [],
   "source": [
    "df.dtypes"
   ]
  },
  {
   "cell_type": "code",
   "execution_count": null,
   "metadata": {},
   "outputs": [],
   "source": [
    "# Filter data between two dates\n",
    "filtered_df = df.loc[(df['ObservationDate'] >= '01-22-2020') & (df['ObservationDate'] < '01-23-2020')]\n",
    "# Display\n",
    "filtered_df"
   ]
  },
  {
   "cell_type": "code",
   "execution_count": null,
   "metadata": {},
   "outputs": [],
   "source": [
    "dfsubset = filtered_df[filtered_df['Country/Region'] == 'Mainland China']\n",
    "dfsubset"
   ]
  },
  {
   "cell_type": "code",
   "execution_count": null,
   "metadata": {},
   "outputs": [],
   "source": [
    "dfsubset['Deaths'].sum()"
   ]
  },
  {
   "cell_type": "markdown",
   "metadata": {},
   "source": [
    "## Write Python codes"
   ]
  },
  {
   "cell_type": "markdown",
   "metadata": {},
   "source": [
    "Note : These dataset is taken from kaggle competition\n",
    "1. Plot number of records in each month(X axis - Month, Y axis - No of records) <br>\n",
    "2. Find total number of rows in which 'Country/Region' is Mainland China and 'Deaths' not equal to zero <br>\n",
    "3. Display the count of unique 'Province/State' <br>\n",
    "4. Display unique 'Country/Region' <br>\n",
    "5. Find number of 'Recovered' cases in 2021 <br>\n",
    "6. Find number of 'Confirmed' cases in April 2020 from Mainland China ('Country/Region') <br>\n",
    "7. Display the first 10 'Country/Region' which have highest 'Recovered' in December 2020 <br>\n",
    "8. Which month in 2020 has highest 'Confirmed' cases <br>\n",
    "9. Plot the total number of Deaths in Zhejiang ('Province/State' ) between March and June 2020 <br>\n",
    "10. Display 'Province/State' names starting with alphabet Z"
   ]
  }
 ],
 "metadata": {
  "kernelspec": {
   "display_name": "Python 3",
   "language": "python",
   "name": "python3"
  },
  "language_info": {
   "codemirror_mode": {
    "name": "ipython",
    "version": 3
   },
   "file_extension": ".py",
   "mimetype": "text/x-python",
   "name": "python",
   "nbconvert_exporter": "python",
   "pygments_lexer": "ipython3",
   "version": "3.8.5"
  }
 },
 "nbformat": 4,
 "nbformat_minor": 4
}
