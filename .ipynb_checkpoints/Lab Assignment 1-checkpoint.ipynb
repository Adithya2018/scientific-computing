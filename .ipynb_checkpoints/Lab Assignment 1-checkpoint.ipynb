{
 "cells": [
  {
   "cell_type": "markdown",
   "metadata": {},
   "source": [
    "**Name:** Adithyan S Raj"
   ]
  },
  {
   "cell_type": "markdown",
   "metadata": {},
   "source": [
    "**Roll No:** AM.EN.U4CSE17510"
   ]
  },
  {
   "cell_type": "markdown",
   "metadata": {},
   "source": [
    "### Programs and Answers"
   ]
  },
  {
   "cell_type": "markdown",
   "metadata": {},
   "source": [
    "Qno 1: Write a program in python to see whether a number is divisible by 7 or not."
   ]
  },
  {
   "cell_type": "code",
   "execution_count": 1,
   "metadata": {},
   "outputs": [
    {
     "name": "stdout",
     "output_type": "stream",
     "text": [
      "Enter a number5\n",
      "It is not divisible\n"
     ]
    }
   ],
   "source": [
    "number = int(input('Enter a number'))\n",
    "if number % 7 == 0:\n",
    "    print('The Number is divisible by 7')\n",
    "else:\n",
    "    print('It is not divisible')"
   ]
  },
  {
   "cell_type": "markdown",
   "metadata": {},
   "source": [
    "Qno 2: Write a program to see whether a number is even or odd."
   ]
  },
  {
   "cell_type": "code",
   "execution_count": 2,
   "metadata": {},
   "outputs": [
    {
     "name": "stdout",
     "output_type": "stream",
     "text": [
      "Enter a number9\n",
      "Odd\n"
     ]
    }
   ],
   "source": [
    "number = int(input('Enter a number'))\n",
    "if number % 2 == 0:\n",
    "    print('Even')\n",
    "else:\n",
    "    print('Odd')"
   ]
  },
  {
   "cell_type": "markdown",
   "metadata": {},
   "source": [
    "Qno 3: Write a python program to input marks of five subjects Physics, Chemistry, Biology,\n",
    "Mathematics and Computer. Calculate percentage and grade according to following:\n",
    " * Percentage >= 90% : Grade A\n",
    " * Percentage >= 80% : Grade B\n",
    " * Percentage >= 70% : Grade C\n",
    " * Percentage >= 60% : Grade D\n",
    " * Percentage >= 40% : Grade E\n",
    " * Percentage < 40% : Grade F\n",
    " * NB:- Marks ranges from 0 – 100. \n",
    " * Need to check for the invalid inputs."
   ]
  },
  {
   "cell_type": "code",
   "execution_count": null,
   "metadata": {},
   "outputs": [],
   "source": [
    "physics = int(input('Enter marks for physics (0-100)'))\n",
    "chemistry = int(input('Enter marks for chemistry (0-100)'))\n",
    "biology = int(input('Enter marks for biology (0-100)'))\n",
    "mathematics = int(input('Enter marks for mathematics (0-100)'))\n",
    "computer = int(input('Enter marks for computer (0-100)'))\n",
    "\n"
   ]
  }
 ],
 "metadata": {
  "kernelspec": {
   "display_name": "Python 3",
   "language": "python",
   "name": "python3"
  },
  "language_info": {
   "codemirror_mode": {
    "name": "ipython",
    "version": 3
   },
   "file_extension": ".py",
   "mimetype": "text/x-python",
   "name": "python",
   "nbconvert_exporter": "python",
   "pygments_lexer": "ipython3",
   "version": "3.7.3"
  }
 },
 "nbformat": 4,
 "nbformat_minor": 5
}
