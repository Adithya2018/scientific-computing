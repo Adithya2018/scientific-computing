{
 "cells": [
  {
   "cell_type": "markdown",
   "id": "acknowledged-office",
   "metadata": {},
   "source": [
    "1. To accept a sequence of comma-separated numbers from the user and generate the following with those numbers:-\n",
    "    \n",
    "        a. Tuple\n",
    "        b. Set"
   ]
  },
  {
   "cell_type": "code",
   "execution_count": 4,
   "id": "tender-aquarium",
   "metadata": {},
   "outputs": [
    {
     "name": "stdout",
     "output_type": "stream",
     "text": [
      "Enter a sequence of numbers separated by comma \n",
      "1,2,3,4,2,3\n",
      "Tuple\n",
      "('1', '2', '3', '4', '2', '3')\n",
      "Set\n",
      "{'2', '3', '4', '1'}\n"
     ]
    }
   ],
   "source": [
    "str1 = input('Enter a sequence of numbers separated by comma \\n')\n",
    "tup1 = tuple(str1.split(','))\n",
    "print('Tuple')\n",
    "print(tup1)\n",
    "set1 = set(str1.split(','))\n",
    "print('Set')\n",
    "print(set1)"
   ]
  },
  {
   "cell_type": "markdown",
   "id": "sticky-timothy",
   "metadata": {},
   "source": [
    "2. To find the elements those are not common in two sets."
   ]
  },
  {
   "cell_type": "code",
   "execution_count": 16,
   "id": "exposed-bridges",
   "metadata": {},
   "outputs": [
    {
     "name": "stdout",
     "output_type": "stream",
     "text": [
      "Enter length for set 1 4\n",
      "Enter the items of set 1\n",
      "Enter set item 1\n",
      "Enter set item 2\n",
      "Enter set item 3\n",
      "Enter set item 4\n",
      "Enter length for set 2 4\n",
      "Enter the items of set 2\n",
      "Enter set item 3\n",
      "Enter set item 4\n",
      "Enter set item 5\n",
      "Enter set item 6\n",
      "{1, 2, 5, 6}\n"
     ]
    }
   ],
   "source": [
    "set1 = set()\n",
    "set2 = set()\n",
    "\n",
    "n1 = int(input('Enter length for set 1 '))\n",
    "print('Enter the items of set 1')\n",
    "for i in range(0,n1):\n",
    "    set1.add(int(input('Enter set item ')))\n",
    "    \n",
    "n2 = int(input('Enter length for set 2 '))\n",
    "print('Enter the items of set 2')\n",
    "for i in range(0,n2):\n",
    "    set2.add(int(input('Enter set item ')))\n",
    "\n",
    "set3 = set1 ^ set2\n",
    "print(set3)"
   ]
  },
  {
   "cell_type": "markdown",
   "id": "fatty-beauty",
   "metadata": {},
   "source": [
    "3. To create a set of consonants in a given sentence using set comprehension."
   ]
  },
  {
   "cell_type": "code",
   "execution_count": 3,
   "id": "focused-yeast",
   "metadata": {},
   "outputs": [
    {
     "name": "stdout",
     "output_type": "stream",
     "text": [
      "Enter the sentence This is a test sentence\n",
      "{'n', 't', 's', 'c', 'h'}\n"
     ]
    }
   ],
   "source": [
    "str1 = input('Enter the sentence')\n",
    "str1 = str1.lower()\n",
    "consonants = {x for x in str1 if x not in ['a','e','i','o','u',' ']}\n",
    "print(consonants)"
   ]
  },
  {
   "cell_type": "markdown",
   "id": "needed-insertion",
   "metadata": {},
   "source": [
    "4. To remove all duplicates from a given sentence."
   ]
  },
  {
   "cell_type": "code",
   "execution_count": 13,
   "id": "tough-engineer",
   "metadata": {},
   "outputs": [
    {
     "name": "stdout",
     "output_type": "stream",
     "text": [
      "Enter the sentenceThis is a sample sentence.\n",
      "imnplTest.cah\n"
     ]
    }
   ],
   "source": [
    "str1 = input('Enter the sentence')\n",
    "upd_str = ''.join({x for x in str1 if x not in [' ']})\n",
    "print(upd_str)"
   ]
  },
  {
   "cell_type": "markdown",
   "id": "organic-gibraltar",
   "metadata": {},
   "source": [
    "5. To remove the intersection of a second set from the first set."
   ]
  },
  {
   "cell_type": "code",
   "execution_count": 18,
   "id": "improved-modification",
   "metadata": {},
   "outputs": [
    {
     "name": "stdout",
     "output_type": "stream",
     "text": [
      "Enter length for set 1 4\n",
      "Enter the items of set 1\n",
      "Enter set item 1\n",
      "Enter set item 2\n",
      "Enter set item 3\n",
      "Enter set item 4\n",
      "Enter length for set 2 4\n",
      "Enter the items of set 2\n",
      "Enter set item 3\n",
      "Enter set item 4\n",
      "Enter set item 5\n",
      "Enter set item 6\n",
      "{1, 2}\n"
     ]
    }
   ],
   "source": [
    "set1 = set()\n",
    "set2 = set()\n",
    "\n",
    "n1 = int(input('Enter length for set 1 '))\n",
    "print('Enter the items of set 1')\n",
    "for i in range(0,n1):\n",
    "    set1.add(int(input('Enter set item ')))\n",
    "        \n",
    "n2 = int(input('Enter length for set 2 '))\n",
    "print('Enter the items of set 2')\n",
    "for i in range(0,n2):\n",
    "    set2.add(int(input('Enter set item ')))\n",
    "    \n",
    "set1.difference_update(set2)\n",
    "print(set1)"
   ]
  },
  {
   "cell_type": "markdown",
   "id": "complicated-subscriber",
   "metadata": {},
   "source": [
    "6. To check if a given set is a superset of itself and a subset"
   ]
  },
  {
   "cell_type": "code",
   "execution_count": 19,
   "id": "concerned-vector",
   "metadata": {},
   "outputs": [
    {
     "name": "stdout",
     "output_type": "stream",
     "text": [
      "Enter length for set 5\n",
      "Enter the items of the set \n",
      "Enter set item 1\n",
      "Enter set item 2\n",
      "Enter set item 3\n",
      "Enter set item 4\n",
      "Enter set item 5\n"
     ]
    },
    {
     "ename": "TypeError",
     "evalue": "can only concatenate str (not \"bool\") to str",
     "output_type": "error",
     "traceback": [
      "\u001b[1;31m---------------------------------------------------------------------------\u001b[0m",
      "\u001b[1;31mTypeError\u001b[0m                                 Traceback (most recent call last)",
      "\u001b[1;32m<ipython-input-19-6762da5f2097>\u001b[0m in \u001b[0;36m<module>\u001b[1;34m\u001b[0m\n\u001b[0;32m      6\u001b[0m     \u001b[0mset1\u001b[0m\u001b[1;33m.\u001b[0m\u001b[0madd\u001b[0m\u001b[1;33m(\u001b[0m\u001b[0mint\u001b[0m\u001b[1;33m(\u001b[0m\u001b[0minput\u001b[0m\u001b[1;33m(\u001b[0m\u001b[1;34m'Enter set item '\u001b[0m\u001b[1;33m)\u001b[0m\u001b[1;33m)\u001b[0m\u001b[1;33m)\u001b[0m\u001b[1;33m\u001b[0m\u001b[1;33m\u001b[0m\u001b[0m\n\u001b[0;32m      7\u001b[0m \u001b[1;33m\u001b[0m\u001b[0m\n\u001b[1;32m----> 8\u001b[1;33m \u001b[0mprint\u001b[0m\u001b[1;33m(\u001b[0m\u001b[1;34m'Checking whether the set is a superset of itself '\u001b[0m \u001b[1;33m+\u001b[0m \u001b[0mset1\u001b[0m\u001b[1;33m.\u001b[0m\u001b[0missuperset\u001b[0m\u001b[1;33m(\u001b[0m\u001b[0mset1\u001b[0m\u001b[1;33m)\u001b[0m\u001b[1;33m)\u001b[0m\u001b[1;33m\u001b[0m\u001b[1;33m\u001b[0m\u001b[0m\n\u001b[0m\u001b[0;32m      9\u001b[0m \u001b[1;33m\u001b[0m\u001b[0m\n\u001b[0;32m     10\u001b[0m \u001b[0mprint\u001b[0m\u001b[1;33m(\u001b[0m\u001b[1;34m'Checking whether the set is a subset of itself '\u001b[0m \u001b[1;33m+\u001b[0m \u001b[0mset1\u001b[0m\u001b[1;33m.\u001b[0m\u001b[0missubset\u001b[0m\u001b[1;33m(\u001b[0m\u001b[0mset1\u001b[0m\u001b[1;33m)\u001b[0m\u001b[1;33m)\u001b[0m\u001b[1;33m\u001b[0m\u001b[1;33m\u001b[0m\u001b[0m\n",
      "\u001b[1;31mTypeError\u001b[0m: can only concatenate str (not \"bool\") to str"
     ]
    }
   ],
   "source": [
    "set1 = set()\n",
    "\n",
    "n1 = int(input('Enter length for set '))\n",
    "print('Enter the items of the set ')\n",
    "for i in range(0,n1):\n",
    "    set1.add(int(input('Enter set item ')))\n",
    "    \n",
    "print('Checking whether the set is a superset of itself ')\n",
    "set1.issuperset(set1)\n",
    "\n",
    "print('Checking whether the set is a subset of itself ')\n",
    "set1.issubset(set1)\n"
   ]
  },
  {
   "cell_type": "markdown",
   "id": "central-times",
   "metadata": {},
   "source": [
    "7. To create two frozen-sets and find the following:\n",
    "\n",
    "        a. Union\n",
    "        b. Intersection\n",
    "        c. Difference"
   ]
  },
  {
   "cell_type": "code",
   "execution_count": null,
   "id": "analyzed-method",
   "metadata": {},
   "outputs": [],
   "source": []
  },
  {
   "cell_type": "markdown",
   "id": "criminal-queue",
   "metadata": {},
   "source": [
    "8. To create a tuple of unique elements from an existing tuple."
   ]
  },
  {
   "cell_type": "code",
   "execution_count": null,
   "id": "smaller-webster",
   "metadata": {},
   "outputs": [],
   "source": []
  },
  {
   "cell_type": "markdown",
   "id": "greek-potential",
   "metadata": {},
   "source": [
    "9. To count the occurrences of elements in a tuple."
   ]
  },
  {
   "cell_type": "code",
   "execution_count": null,
   "id": "prescribed-compatibility",
   "metadata": {},
   "outputs": [],
   "source": []
  },
  {
   "cell_type": "markdown",
   "id": "alike-columbus",
   "metadata": {},
   "source": [
    "10. To find if all the items in a tuple, are the same."
   ]
  },
  {
   "cell_type": "code",
   "execution_count": null,
   "id": "finite-groove",
   "metadata": {},
   "outputs": [],
   "source": []
  },
  {
   "cell_type": "markdown",
   "id": "dressed-burning",
   "metadata": {},
   "source": [
    "11. To sort a given tuple in descending order."
   ]
  },
  {
   "cell_type": "code",
   "execution_count": null,
   "id": "acting-communications",
   "metadata": {},
   "outputs": [],
   "source": []
  },
  {
   "cell_type": "markdown",
   "id": "apart-degree",
   "metadata": {},
   "source": [
    "12. To check whether an element exists within a tuple."
   ]
  },
  {
   "cell_type": "code",
   "execution_count": null,
   "id": "sorted-bargain",
   "metadata": {},
   "outputs": [],
   "source": []
  },
  {
   "cell_type": "markdown",
   "id": "oriental-competition",
   "metadata": {},
   "source": [
    "13. To remove an empty tuple(s) from a tuple of tuples.\n",
    "\n",
    "        Sample data: ((), (2), (\",), ('x', 'y'), (), ('p','q','r'), (), (3,4))\n",
    "        Expected output: (2, (\",), ('x', 'y'), ('p','q','r'), (3,4))"
   ]
  },
  {
   "cell_type": "code",
   "execution_count": null,
   "id": "determined-brass",
   "metadata": {},
   "outputs": [],
   "source": []
  },
  {
   "cell_type": "markdown",
   "id": "lesbian-westminster",
   "metadata": {},
   "source": [
    "14. To create a new dictionary by merging two dictionaries."
   ]
  },
  {
   "cell_type": "code",
   "execution_count": null,
   "id": "infrared-preview",
   "metadata": {},
   "outputs": [],
   "source": []
  },
  {
   "cell_type": "markdown",
   "id": "recognized-duplicate",
   "metadata": {},
   "source": [
    "15. To create a dictionary and to check if a key exists in the dictionary. If the key exists, print the value else, add the key into the dictionary."
   ]
  },
  {
   "cell_type": "code",
   "execution_count": null,
   "id": "surgical-screen",
   "metadata": {},
   "outputs": [],
   "source": []
  },
  {
   "cell_type": "markdown",
   "id": "infectious-writer",
   "metadata": {},
   "source": [
    "16. To remove a key from a dictionary."
   ]
  },
  {
   "cell_type": "code",
   "execution_count": null,
   "id": "virtual-asthma",
   "metadata": {},
   "outputs": [],
   "source": []
  },
  {
   "cell_type": "markdown",
   "id": "western-queen",
   "metadata": {},
   "source": [
    "17. To print a dictionary and to check if a key exists in the dictionary. If the key exists, print the value else, add the key into the dictionary."
   ]
  },
  {
   "cell_type": "code",
   "execution_count": null,
   "id": "continuous-index",
   "metadata": {},
   "outputs": [],
   "source": []
  },
  {
   "cell_type": "markdown",
   "id": "exotic-cable",
   "metadata": {},
   "source": [
    "18. To sum all the items in a dictionary."
   ]
  },
  {
   "cell_type": "code",
   "execution_count": null,
   "id": "documented-prime",
   "metadata": {},
   "outputs": [],
   "source": []
  },
  {
   "cell_type": "markdown",
   "id": "standing-citizen",
   "metadata": {},
   "source": [
    "19. To convert a list of tuples into a dictionary."
   ]
  },
  {
   "cell_type": "code",
   "execution_count": null,
   "id": "criminal-software",
   "metadata": {},
   "outputs": [],
   "source": []
  },
  {
   "cell_type": "markdown",
   "id": "damaged-aaron",
   "metadata": {},
   "source": [
    "20. To build a dictionary of words and their word counts in a sentence given by the user."
   ]
  },
  {
   "cell_type": "code",
   "execution_count": null,
   "id": "decent-converter",
   "metadata": {},
   "outputs": [],
   "source": []
  },
  {
   "cell_type": "code",
   "execution_count": null,
   "id": "enhanced-cathedral",
   "metadata": {},
   "outputs": [],
   "source": []
  }
 ],
 "metadata": {
  "kernelspec": {
   "display_name": "Python 3",
   "language": "python",
   "name": "python3"
  },
  "language_info": {
   "codemirror_mode": {
    "name": "ipython",
    "version": 3
   },
   "file_extension": ".py",
   "mimetype": "text/x-python",
   "name": "python",
   "nbconvert_exporter": "python",
   "pygments_lexer": "ipython3",
   "version": "3.8.5"
  }
 },
 "nbformat": 4,
 "nbformat_minor": 5
}
