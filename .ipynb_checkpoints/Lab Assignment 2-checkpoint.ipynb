{
 "cells": [
  {
   "cell_type": "markdown",
   "metadata": {},
   "source": [
    "# Python Programming - Strings and List"
   ]
  },
  {
   "cell_type": "markdown",
   "metadata": {},
   "source": [
    "### Write Python programs for the following:"
   ]
  },
  {
   "cell_type": "markdown",
   "metadata": {},
   "source": [
    "Qno 1: To accept a filename from the user and print the extension."
   ]
  },
  {
   "cell_type": "code",
   "execution_count": 1,
   "metadata": {},
   "outputs": [
    {
     "name": "stdout",
     "output_type": "stream",
     "text": [
      "Enter a filename \n",
      "\n",
      "The extension of the file is ''\n"
     ]
    }
   ],
   "source": [
    "fileName = str(input('Enter a filename '))\n",
    "print()\n",
    "fextens = fileName.split('.')\n",
    "print(\"The extension of the file is \" + repr(fextens[-1]))"
   ]
  },
  {
   "cell_type": "markdown",
   "metadata": {},
   "source": [
    "Qno 2: Given a string of odd length greater than 7, return a string made of the middle three chars of the given string.  \n",
    "  \n",
    "     Sample String = \"Pythonstrings\"  \n",
    "     Expected Result: 'nst'"
   ]
  },
  {
   "cell_type": "code",
   "execution_count": 2,
   "metadata": {},
   "outputs": [
    {
     "name": "stdout",
     "output_type": "stream",
     "text": [
      "Enter a String \n",
      "\n"
     ]
    }
   ],
   "source": [
    "strr = str(input('Enter a String '))\n",
    "print()\n",
    "if len(strr) % 2 == 1 and len(strr) > 7:\n",
    "    temp = int(len(strr) / 2)\n",
    "    print(strr[temp - 1] + strr[temp] + strr[temp + 1])"
   ]
  },
  {
   "cell_type": "markdown",
   "metadata": {},
   "source": [
    "Qno 3: Count all lower case, upper case, digits, and special symbols from a given string.\n",
    "\n",
    "    Given String: str1 = \"P@#yn26at^&i5ve\"\n",
    "    Expected Output:\n",
    "        Total counts of chars, digits, and symbols\n",
    "        Chars = 8\n",
    "        Digits = 3\n",
    "        Symbol = 4"
   ]
  },
  {
   "cell_type": "code",
   "execution_count": 3,
   "metadata": {},
   "outputs": [
    {
     "name": "stdout",
     "output_type": "stream",
     "text": [
      "Enter a string\n",
      "\n",
      "Total counts of chars, digits, and symbols\n",
      "Chars = 0\n",
      "Digits = 0\n",
      "Symbol = 0\n"
     ]
    }
   ],
   "source": [
    "str1 = input('Enter a string')\n",
    "Chars = 0\n",
    "Digits = 0\n",
    "Symbol = 0\n",
    "for i in str1:\n",
    "    num = ord(i)\n",
    "    if num >= 48 and num <= 57:\n",
    "        Digits += 1\n",
    "    elif num >= 65 and num <= 90:\n",
    "        Chars += 1\n",
    "    elif num >= 97 and num <= 122:\n",
    "        Chars += 1\n",
    "    else:\n",
    "        Symbol += 1\n",
    "print()\n",
    "print('Total counts of chars, digits, and symbols')\n",
    "print('Chars = ' + str(Chars))\n",
    "print('Digits = ' + str(Digits))\n",
    "print('Symbol = ' + str(Symbol))"
   ]
  },
  {
   "cell_type": "markdown",
   "metadata": {},
   "source": [
    "Qno 4: To find the longest and the smallest word in a string."
   ]
  },
  {
   "cell_type": "code",
   "execution_count": 21,
   "metadata": {},
   "outputs": [
    {
     "name": "stdout",
     "output_type": "stream",
     "text": [
      "Enter a String testing to see whether it works\n",
      "Smallest word: to\n",
      "Largest word: testing\n"
     ]
    }
   ],
   "source": [
    "string = input('Enter a String ')\n",
    "word = \"\"\n",
    "words = []\n",
    "\n",
    "string += ' '\n",
    "for i in range(0, len(string)):  \n",
    "    if(string[i] != ' '):  \n",
    "        word = word + string[i]  \n",
    "    else:  \n",
    "        words.append(word)  \n",
    "        word = \"\"\n",
    "            \n",
    "small = words[0]\n",
    "large = words[0]\n",
    "   \n",
    "for i in range(0, len(words)):\n",
    "    if(len(small) > len(words[i])):  \n",
    "        small = words[i]  \n",
    "    if(len(large) < len(words[i])):  \n",
    "        large = words[i]\n",
    "        \n",
    "print(\"Smallest word: \" + small)  \n",
    "\n",
    "print(\"Largest word: \" + large)"
   ]
  },
  {
   "cell_type": "markdown",
   "metadata": {},
   "source": [
    "Qno 5: To check if a given string is a Palindrome. (A palindrome reads same from front and back. e.g. Madam, Bob, level.)"
   ]
  },
  {
   "cell_type": "code",
   "execution_count": 7,
   "metadata": {},
   "outputs": [
    {
     "name": "stdout",
     "output_type": "stream",
     "text": [
      "Enter a String Bob\n",
      "Palindrome\n"
     ]
    }
   ],
   "source": [
    "def reverse(s):\n",
    "    str1 = \"\"\n",
    "    for i in s:\n",
    "        str1 = i + str1\n",
    "    return str1\n",
    "\n",
    "s = input('Enter a String ')\n",
    "s = s.lower()\n",
    "if s == reverse(s):\n",
    "    print('Palindrome')\n",
    "else:\n",
    "    print('Not a Palindrome')"
   ]
  },
  {
   "cell_type": "markdown",
   "metadata": {},
   "source": [
    "Qno 6: To  generate  a  new  string  from  a  given  one  where  all occurrences  of  its  first char are replaced by '$', except the first char itself.  \n",
    "\n",
    "        Sample String: 'onion'  \n",
    "        Expected Result: 'oni$n.  \n",
    "        \n",
    "        Sample String: 'people of philippines'  \n",
    "        Expected Result: 'peo$le of $hili$$ines'  "
   ]
  },
  {
   "cell_type": "code",
   "execution_count": 14,
   "metadata": {},
   "outputs": [
    {
     "name": "stdout",
     "output_type": "stream",
     "text": [
      "Enter a String onion\n",
      "oni$n\n"
     ]
    }
   ],
   "source": [
    "str1 = input('Enter a String ')\n",
    "ch = '' + str1[0]\n",
    "str2 = '' + ch\n",
    "for i in range(1,len(str1)):\n",
    "    if str1[i] == ch:\n",
    "        str2 += '$'\n",
    "    else:\n",
    "        str2 += str1[i]\n",
    "        \n",
    "print(str2)"
   ]
  },
  {
   "cell_type": "markdown",
   "metadata": {},
   "source": [
    "Qno 7: To  add  'ing'  at  the  end  of  a  given  string (length  should  be  at  least  3).  If  the given  one  already  ends  with  'ing'  then  add  'ly'  instead.  If  the  string  length  of the given string is less than 3, leave it unchanged.    \n",
    "            \n",
    "            Sample String: 'sky'.  \n",
    "            Expected Result: 'skying'.  \n",
    "            \n",
    "            Sample String: 'being'.  \n",
    "            Expected Result: 'beingly'.  \n",
    "        \n",
    "            Sample String: 'in'.  \n",
    "            Expected Result: 'in'.  "
   ]
  },
  {
   "cell_type": "code",
   "execution_count": 19,
   "metadata": {},
   "outputs": [
    {
     "name": "stdout",
     "output_type": "stream",
     "text": [
      "Enter a String sky\n",
      "skying\n"
     ]
    }
   ],
   "source": [
    "str1 = input('Enter a String ')\n",
    "if len(str1) > 2:\n",
    "    temp = '' + str1[len(str1) - 3] + str1[len(str1) - 2] + str1[len(str1) - 1] \n",
    "    if temp == 'ing':\n",
    "        str1 += 'ly'\n",
    "    else:\n",
    "        str1 += 'ing'\n",
    "print(str1)"
   ]
  },
  {
   "cell_type": "markdown",
   "metadata": {},
   "source": [
    "Qno 8: To split a list into two halves."
   ]
  },
  {
   "cell_type": "code",
   "execution_count": 26,
   "metadata": {},
   "outputs": [
    {
     "name": "stdout",
     "output_type": "stream",
     "text": [
      "Enter the number of items in the list 10\n",
      "Enter an item1\n",
      "Enter an item2\n",
      "Enter an item3\n",
      "Enter an item4\n",
      "Enter an item5\n",
      "Enter an item6\n",
      "Enter an item7\n",
      "Enter an item8\n",
      "Enter an item9\n",
      "Enter an item10\n",
      "First Half of the List:\n",
      "['1', '2', '3', '4', '5']\n",
      "Second Half of the List:\n",
      "['6', '7', '8', '9', '10']\n"
     ]
    }
   ],
   "source": [
    "n = int(input('Enter the number of items in the list '))\n",
    "A = []\n",
    "for i in range(0, n):\n",
    "    A.append(input('Enter an item'))\n",
    "    \n",
    "h1 = []\n",
    "h2 = []\n",
    "\n",
    "for i in range(0, int(n/2)):\n",
    "    h1.append(A[i])\n",
    "for j in range(int(n/2), n):\n",
    "    h2.append(A[j])\n",
    "\n",
    "print('First Half of the List:')\n",
    "print(h1)\n",
    "print('Second Half of the List:')\n",
    "print(h2)"
   ]
  },
  {
   "cell_type": "markdown",
   "metadata": {},
   "source": [
    "Qno 9: To reverse a list without using the reverse method."
   ]
  },
  {
   "cell_type": "code",
   "execution_count": 27,
   "metadata": {},
   "outputs": [
    {
     "name": "stdout",
     "output_type": "stream",
     "text": [
      "Enter the number of items in the list 5\n",
      "Enter an item1\n",
      "Enter an item2\n",
      "Enter an item3\n",
      "Enter an item4\n",
      "Enter an item5\n",
      "Reversed String is \n",
      "['5', '4', '3', '2', '1']\n"
     ]
    }
   ],
   "source": [
    "n = int(input('Enter the number of items in the list '))\n",
    "A = []\n",
    "for i in range(0, n):\n",
    "    A.append(input('Enter an item'))\n",
    "\n",
    "j = n - 1\n",
    "R = []\n",
    "for i in range(0, n):\n",
    "    R.append(A[j])\n",
    "    j -= 1\n",
    "\n",
    "print('Reversed String is ')\n",
    "print(R)\n"
   ]
  },
  {
   "cell_type": "markdown",
   "metadata": {},
   "source": [
    "Qno 10: To  read  a  sentence  from  the  user  and  create  a  list  of  words  in  the  sentence. Also, count the occurrence of a specific word."
   ]
  },
  {
   "cell_type": "code",
   "execution_count": 30,
   "metadata": {},
   "outputs": [
    {
     "name": "stdout",
     "output_type": "stream",
     "text": [
      "Enter a sentence To read from To and To To Two\n",
      "Enter the word you want to check To\n",
      "The word occurred 4 times.\n"
     ]
    }
   ],
   "source": [
    "sent = input('Enter a sentence ')\n",
    "words = sent.split(' ')\n",
    "word = input('Enter the word you want to check ')\n",
    "c = 0\n",
    "for i in words:\n",
    "    if word == i:\n",
    "        c += 1\n",
    "\n",
    "if c == 0:\n",
    "    print('There is no such word in the given sentence.')\n",
    "else:\n",
    "    print('The word occurred ' + str(c) + ' times.')\n"
   ]
  },
  {
   "cell_type": "markdown",
   "metadata": {},
   "source": [
    "Qno 11: To  generate  a  list  of  all  four-digit  numbers  that  have  all  their  digits  even  and are  perfect  squares. (e.g.  the  output  should  include  6400  but  not  8100  (one digit is odd) or 4248 (not a perfect square))"
   ]
  },
  {
   "cell_type": "code",
   "execution_count": 34,
   "metadata": {},
   "outputs": [
    {
     "name": "stdout",
     "output_type": "stream",
     "text": [
      "4624\n",
      "6084\n",
      "6400\n",
      "8464\n"
     ]
    }
   ],
   "source": [
    "import math\n",
    "\n",
    "ps = [] # perfect square root\n",
    "pse = [] # perfect square root and even\n",
    "\n",
    "for i in range(1000, 10000):\n",
    "    root = math.sqrt(i)\n",
    "    \n",
    "    if int(root + 0.5) ** 2 == i:\n",
    "        ps.append(i)\n",
    "\n",
    "for i in ps:\n",
    "    temp = str(i)\n",
    "    if int(temp[0]) % 2 == 1 or int(temp[1]) % 2 == 1 or int(temp[2]) % 2 == 1 or int(temp[3]) % 2 == 1:\n",
    "        continue\n",
    "    pse.append(i)\n",
    "\n",
    "for i in pse:\n",
    "    print(i)"
   ]
  },
  {
   "cell_type": "markdown",
   "metadata": {},
   "source": [
    "Qno 12: To create a list of all the Disarium numbers between 1 and 100.  \n",
    "(A number is said to be the Disarium number when the sum of its digit raised to the power of their respective positions is equal to the numberitself. For example,175 is a Disarium number as follows 1^ 1 + 7^ 2 + 5^ 3 = 1 + 49 + 125 = 175)"
   ]
  },
  {
   "cell_type": "code",
   "execution_count": 40,
   "metadata": {},
   "outputs": [
    {
     "name": "stdout",
     "output_type": "stream",
     "text": [
      "1\n",
      "2\n",
      "3\n",
      "4\n",
      "5\n",
      "6\n",
      "7\n",
      "8\n",
      "9\n",
      "89\n"
     ]
    }
   ],
   "source": [
    "def calculateLength(n):    \n",
    "    length = 0;    \n",
    "    while(n != 0):    \n",
    "        length = length + 1;    \n",
    "        n = n//10;    \n",
    "    return length;    \n",
    " \n",
    "dis = []\n",
    "for num in range(1, 101):\n",
    "    rem = summ = 0;    \n",
    "    lenn = calculateLength(num);    \n",
    "         \n",
    "    temp = num;    \n",
    "         \n",
    "    while(num > 0):    \n",
    "        rem = num%10;    \n",
    "        summ = summ + int(rem**lenn);    \n",
    "        num = num//10;    \n",
    "        lenn = lenn - 1;    \n",
    "    if(summ == temp):    \n",
    "        dis.append(temp)\n",
    "        \n",
    "for i in dis:\n",
    "    print(i)\n"
   ]
  },
  {
   "cell_type": "markdown",
   "metadata": {},
   "source": [
    "Qno 13: To  create  a  list  of  all  three-digit  numbers which  are  the  sums  of  the  cubes of their digits. (For example: 370 = 3^3+7^3+0^3)."
   ]
  },
  {
   "cell_type": "code",
   "execution_count": null,
   "metadata": {},
   "outputs": [],
   "source": [
    "def calculateLength(n):    \n",
    "    length = 0;    \n",
    "    while(n != 0):    \n",
    "        length = length + 1;    \n",
    "        n = n//10;    \n",
    "    return length; \n",
    "\n",
    "armstrong = []\n",
    "for num in range(100, 1000):\n",
    "    rem = sum = 0;    \n",
    "    len = calculateLength(num);    \n",
    "         \n",
    "    temp = num;    \n",
    "         \n",
    "    while(num > 0):    \n",
    "        rem = num%10;    \n",
    "        sum = sum + int(rem**len);    \n",
    "        num = num//10;    \n",
    "        len = len - 1;    \n",
    "    if(sum == temp):    \n",
    "        dis.append(temp)\n",
    "        \n",
    "for i in dis:\n",
    "    print(i)\n"
   ]
  },
  {
   "cell_type": "markdown",
   "metadata": {},
   "source": [
    "Qno 14: To  create  a  new  list  of  all  positive  numbers  from  an  existing  list  using  list comprehension."
   ]
  },
  {
   "cell_type": "code",
   "execution_count": null,
   "metadata": {},
   "outputs": [],
   "source": []
  },
  {
   "cell_type": "markdown",
   "metadata": {},
   "source": [
    "Qno 15: To generate a list where the values are square of numbers between 1 and 10 (both included) using list comprehension.Print the list except for the first two numbers and last three numbers."
   ]
  },
  {
   "cell_type": "code",
   "execution_count": null,
   "metadata": {},
   "outputs": [],
   "source": []
  }
 ],
 "metadata": {
  "kernelspec": {
   "display_name": "Python 3",
   "language": "python",
   "name": "python3"
  },
  "language_info": {
   "codemirror_mode": {
    "name": "ipython",
    "version": 3
   },
   "file_extension": ".py",
   "mimetype": "text/x-python",
   "name": "python",
   "nbconvert_exporter": "python",
   "pygments_lexer": "ipython3",
   "version": "3.8.5"
  }
 },
 "nbformat": 4,
 "nbformat_minor": 2
}
