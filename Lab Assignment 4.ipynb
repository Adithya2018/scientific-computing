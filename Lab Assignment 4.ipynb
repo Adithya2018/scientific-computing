{
 "cells": [
  {
   "cell_type": "markdown",
   "id": "rational-europe",
   "metadata": {},
   "source": [
    "# Python Programming - Functions"
   ]
  },
  {
   "cell_type": "markdown",
   "id": "swedish-installation",
   "metadata": {},
   "source": [
    "## Write a Python program to create a function:"
   ]
  },
  {
   "cell_type": "markdown",
   "id": "appreciated-export",
   "metadata": {},
   "source": [
    "1. That accepts a string and returns the reverse of the string. (Don't use reverse function)"
   ]
  },
  {
   "cell_type": "code",
   "execution_count": null,
   "id": "established-chemistry",
   "metadata": {},
   "outputs": [],
   "source": []
  },
  {
   "cell_type": "markdown",
   "id": "collective-monthly",
   "metadata": {},
   "source": [
    "2. That accepts a list and returns the largest and smallest element in the list."
   ]
  },
  {
   "cell_type": "code",
   "execution_count": null,
   "id": "technological-bottle",
   "metadata": {},
   "outputs": [],
   "source": []
  },
  {
   "cell_type": "markdown",
   "id": "sublime-blanket",
   "metadata": {},
   "source": [
    "3. To calculate the factorial of a number (a non-negative integer). Pass the integer as an argument and return the factorial."
   ]
  },
  {
   "cell_type": "code",
   "execution_count": null,
   "id": "mental-cornell",
   "metadata": {},
   "outputs": [],
   "source": []
  },
  {
   "cell_type": "markdown",
   "id": "coupled-carrier",
   "metadata": {},
   "source": [
    "4. That accepts a string and calculate the number of upper case letters and lower case letters."
   ]
  },
  {
   "cell_type": "code",
   "execution_count": null,
   "id": "greatest-boulder",
   "metadata": {},
   "outputs": [],
   "source": []
  },
  {
   "cell_type": "markdown",
   "id": "useful-maryland",
   "metadata": {},
   "source": [
    "5. That takes a list and returns a new list with unique elements of the first list."
   ]
  },
  {
   "cell_type": "code",
   "execution_count": null,
   "id": "spectacular-occasions",
   "metadata": {},
   "outputs": [],
   "source": []
  }
 ],
 "metadata": {
  "kernelspec": {
   "display_name": "Python 3",
   "language": "python",
   "name": "python3"
  },
  "language_info": {
   "codemirror_mode": {
    "name": "ipython",
    "version": 3
   },
   "file_extension": ".py",
   "mimetype": "text/x-python",
   "name": "python",
   "nbconvert_exporter": "python",
   "pygments_lexer": "ipython3",
   "version": "3.8.5"
  }
 },
 "nbformat": 4,
 "nbformat_minor": 5
}
