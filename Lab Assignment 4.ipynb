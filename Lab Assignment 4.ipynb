{
 "cells": [
  {
   "cell_type": "markdown",
   "id": "reliable-technology",
   "metadata": {},
   "source": [
    "# Python Programming - Functions"
   ]
  },
  {
   "cell_type": "markdown",
   "id": "electrical-tomorrow",
   "metadata": {},
   "source": [
    "## Write a Python program to create a function:"
   ]
  },
  {
   "cell_type": "markdown",
   "id": "neural-mongolia",
   "metadata": {},
   "source": [
    "1. That accepts a string and returns the reverse of the string. (Don't use reverse function)"
   ]
  },
  {
   "cell_type": "code",
   "execution_count": null,
   "id": "advanced-evans",
   "metadata": {},
   "outputs": [],
   "source": []
  },
  {
   "cell_type": "markdown",
   "id": "direct-filling",
   "metadata": {},
   "source": [
    "2. That accepts a list and returns the largest and smallest element in the list."
   ]
  },
  {
   "cell_type": "code",
   "execution_count": null,
   "id": "introductory-particular",
   "metadata": {},
   "outputs": [],
   "source": []
  },
  {
   "cell_type": "markdown",
   "id": "enhanced-virus",
   "metadata": {},
   "source": [
    "3. To calculate the factorial of a number (a non-negative integer). Pass the integer as an argument and return the factorial."
   ]
  },
  {
   "cell_type": "code",
   "execution_count": null,
   "id": "danish-dutch",
   "metadata": {},
   "outputs": [],
   "source": []
  },
  {
   "cell_type": "markdown",
   "id": "fuzzy-affect",
   "metadata": {},
   "source": [
    "4. That accepts a string and calculate the number of upper case letters and lower case letters."
   ]
  },
  {
   "cell_type": "code",
   "execution_count": null,
   "id": "certified-karma",
   "metadata": {},
   "outputs": [],
   "source": []
  },
  {
   "cell_type": "markdown",
   "id": "painful-contribution",
   "metadata": {},
   "source": [
    "5. That takes a list and returns a new list with unique elements of the first list."
   ]
  },
  {
   "cell_type": "code",
   "execution_count": null,
   "id": "voluntary-hearts",
   "metadata": {},
   "outputs": [],
   "source": []
  },
  {
   "cell_type": "markdown",
   "id": "conditional-nudist",
   "metadata": {},
   "source": [
    "6. That returns a list of all four-digit numbers that have all their digits even and are perfect squares. (for eg:- the output should include 6400 but not 8100 (one digit is odd) or 4268 (not a perfect square))"
   ]
  },
  {
   "cell_type": "code",
   "execution_count": null,
   "id": "broad-gothic",
   "metadata": {},
   "outputs": [],
   "source": []
  },
  {
   "cell_type": "markdown",
   "id": "technical-average",
   "metadata": {},
   "source": [
    "7. That accept an integer number, find if it is Disarium number or not (Hint: A number is said to be a Disarium number when the sum of its digit raised to the power of their respective position is equal to the number itself. Eg: 175 is a Disarium number, 1^1 + 7^2 + 5^3 = 175)"
   ]
  },
  {
   "cell_type": "code",
   "execution_count": null,
   "id": "agreed-council",
   "metadata": {},
   "outputs": [],
   "source": []
  },
  {
   "cell_type": "markdown",
   "id": "blond-plenty",
   "metadata": {},
   "source": [
    "8. That returns a list of all the Disarium numbers between two limits. The function accepts limits as parameters."
   ]
  },
  {
   "cell_type": "code",
   "execution_count": null,
   "id": "optimum-chrome",
   "metadata": {},
   "outputs": [],
   "source": []
  },
  {
   "cell_type": "markdown",
   "id": "pacific-aruba",
   "metadata": {},
   "source": [
    "9. That accepts a string, check for Palindrome and returns True or False respectively."
   ]
  },
  {
   "cell_type": "code",
   "execution_count": null,
   "id": "geological-webster",
   "metadata": {},
   "outputs": [],
   "source": []
  },
  {
   "cell_type": "markdown",
   "id": "sacred-nerve",
   "metadata": {},
   "source": [
    "10. That accept an arbitrary number of words returnd the count of each word."
   ]
  },
  {
   "cell_type": "code",
   "execution_count": null,
   "id": "quick-policy",
   "metadata": {},
   "outputs": [],
   "source": []
  },
  {
   "cell_type": "markdown",
   "id": "desirable-geometry",
   "metadata": {},
   "source": [
    "11. That accept two lists and return True if they have at least one commmon item else return False."
   ]
  },
  {
   "cell_type": "code",
   "execution_count": null,
   "id": "amazing-wayne",
   "metadata": {},
   "outputs": [],
   "source": []
  },
  {
   "cell_type": "markdown",
   "id": "temporal-association",
   "metadata": {},
   "source": [
    "12. That accept two numbers and return the GCD (greatest common divisor) of the numbers."
   ]
  },
  {
   "cell_type": "code",
   "execution_count": null,
   "id": "technical-relationship",
   "metadata": {},
   "outputs": [],
   "source": []
  },
  {
   "cell_type": "markdown",
   "id": "prime-given",
   "metadata": {},
   "source": [
    "13. That accepts an arbitrary number of keyword arguments and returns the maximum value."
   ]
  },
  {
   "cell_type": "code",
   "execution_count": null,
   "id": "virtual-mozambique",
   "metadata": {},
   "outputs": [],
   "source": []
  },
  {
   "cell_type": "markdown",
   "id": "senior-emperor",
   "metadata": {},
   "source": [
    "14. That accepts a string and return a list of all duplicate characters in the string."
   ]
  },
  {
   "cell_type": "code",
   "execution_count": null,
   "id": "daily-authority",
   "metadata": {},
   "outputs": [],
   "source": []
  },
  {
   "cell_type": "markdown",
   "id": "regulated-postcard",
   "metadata": {},
   "source": [
    "15. That accepts a number, find the factors and return two lists. The first list contains all the odd factors and second list all the even ones."
   ]
  },
  {
   "cell_type": "code",
   "execution_count": null,
   "id": "activated-retrieval",
   "metadata": {},
   "outputs": [],
   "source": []
  },
  {
   "cell_type": "markdown",
   "id": "private-semester",
   "metadata": {},
   "source": [
    "## Write a Python program to create a recursive function:"
   ]
  },
  {
   "cell_type": "markdown",
   "id": "innocent-turning",
   "metadata": {},
   "source": [
    "16. That accepts a number and find the harmonic sum of that number. (Hint: the\n",
    "harmonic sum of n is equal to the sum of reciprocals of positive integers up to n). For\n",
    "example, if n =3, HS = 1+1/2+1/3"
   ]
  },
  {
   "cell_type": "code",
   "execution_count": null,
   "id": "entire-effect",
   "metadata": {},
   "outputs": [],
   "source": []
  },
  {
   "cell_type": "markdown",
   "id": "executive-separation",
   "metadata": {},
   "source": [
    "17. That accepts a number and find the sum of geometric series of that number. (Hint:\n",
    "Geometric series of 4 = 1+1/2+1/4+1/8)"
   ]
  },
  {
   "cell_type": "code",
   "execution_count": null,
   "id": "incoming-danish",
   "metadata": {},
   "outputs": [],
   "source": []
  },
  {
   "cell_type": "markdown",
   "id": "bearing-seeker",
   "metadata": {},
   "source": [
    "18. That accepts two integers and find the gcd (greatest common divisor) of them."
   ]
  },
  {
   "cell_type": "code",
   "execution_count": null,
   "id": "aquatic-moldova",
   "metadata": {},
   "outputs": [],
   "source": []
  },
  {
   "cell_type": "markdown",
   "id": "middle-anatomy",
   "metadata": {},
   "source": [
    "19. That accepts a decimal integer and display its binary equivalent."
   ]
  },
  {
   "cell_type": "code",
   "execution_count": null,
   "id": "meaningful-temperature",
   "metadata": {},
   "outputs": [],
   "source": []
  },
  {
   "cell_type": "markdown",
   "id": "agreed-collection",
   "metadata": {},
   "source": []
  },
  {
   "cell_type": "code",
   "execution_count": null,
   "id": "careful-screen",
   "metadata": {},
   "outputs": [],
   "source": []
  }
 ],
 "metadata": {
  "kernelspec": {
   "display_name": "Python 3",
   "language": "python",
   "name": "python3"
  },
  "language_info": {
   "codemirror_mode": {
    "name": "ipython",
    "version": 3
   },
   "file_extension": ".py",
   "mimetype": "text/x-python",
   "name": "python",
   "nbconvert_exporter": "python",
   "pygments_lexer": "ipython3",
   "version": "3.8.5"
  }
 },
 "nbformat": 4,
 "nbformat_minor": 5
}
