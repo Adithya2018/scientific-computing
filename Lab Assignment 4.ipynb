{
 "cells": [
  {
   "cell_type": "markdown",
   "id": "hindu-pointer",
   "metadata": {},
   "source": [
    "# Python Programming - Functions"
   ]
  },
  {
   "cell_type": "markdown",
   "id": "premier-philippines",
   "metadata": {},
   "source": [
    "## Write a Python program to create a function:"
   ]
  },
  {
   "cell_type": "markdown",
   "id": "square-federal",
   "metadata": {},
   "source": [
    "1. That accepts a string and returns the reverse of the string. (Don't use reverse function)"
   ]
  },
  {
   "cell_type": "code",
   "execution_count": 4,
   "id": "saved-edwards",
   "metadata": {},
   "outputs": [
    {
     "name": "stdout",
     "output_type": "stream",
     "text": [
      "esrever\n"
     ]
    }
   ],
   "source": [
    "def rev(str1):\n",
    "    rev_str = ''\n",
    "    for i in str1:\n",
    "        rev_str = i + rev_str\n",
    "    return rev_str\n",
    "\n",
    "print(rev('reverse'))"
   ]
  },
  {
   "cell_type": "markdown",
   "id": "surprised-samba",
   "metadata": {},
   "source": [
    "2. That accepts a list and returns the largest and smallest element in the list."
   ]
  },
  {
   "cell_type": "code",
   "execution_count": 7,
   "id": "loose-shoulder",
   "metadata": {},
   "outputs": [
    {
     "name": "stdout",
     "output_type": "stream",
     "text": [
      "small -1\n",
      "large 5\n"
     ]
    }
   ],
   "source": [
    "def small_large(lst):\n",
    "    s = l = lst[0]\n",
    "    for i in lst:\n",
    "        if i > l:\n",
    "            l = i\n",
    "        elif i < s:\n",
    "            s = i\n",
    "    return s,l\n",
    "\n",
    "small, large = small_large([1,-1,2,3,4,5])\n",
    "print('small ' + str(small))\n",
    "print('large ' + str(large))"
   ]
  },
  {
   "cell_type": "markdown",
   "id": "rotary-security",
   "metadata": {},
   "source": [
    "3. To calculate the factorial of a number (a non-negative integer). Pass the integer as an argument and return the factorial."
   ]
  },
  {
   "cell_type": "code",
   "execution_count": 10,
   "id": "rubber-vancouver",
   "metadata": {},
   "outputs": [
    {
     "name": "stdout",
     "output_type": "stream",
     "text": [
      "Factorial 120\n"
     ]
    }
   ],
   "source": [
    "def fact(num):\n",
    "    f = 1\n",
    "    for i in range(1,num+1):\n",
    "        f = f * i\n",
    "    return f\n",
    "    \n",
    "print('Factorial ' + str(fact(5)))"
   ]
  },
  {
   "cell_type": "markdown",
   "id": "willing-chicken",
   "metadata": {},
   "source": [
    "4. That accepts a string and calculate the number of upper case letters and lower case letters."
   ]
  },
  {
   "cell_type": "code",
   "execution_count": 13,
   "id": "separate-sculpture",
   "metadata": {},
   "outputs": [
    {
     "name": "stdout",
     "output_type": "stream",
     "text": [
      "Upper case count: 12\n",
      "Lower case count: 19\n"
     ]
    }
   ],
   "source": [
    "def upper_lower(str1):\n",
    "    u = 0\n",
    "    l = 0\n",
    "    for i in str1:\n",
    "        if ord(i) >= 65 and ord(i) <= 90:\n",
    "            u += 1\n",
    "        if ord(i) >= 97 and ord(i) <= 122:\n",
    "            l += 1\n",
    "    return u, l\n",
    "\n",
    "u, l = upper_lower('Testing FOr UPPERcase and lowerCASE')\n",
    "print('Upper case count: ' + str(u))\n",
    "print('Lower case count: ' + str(l))"
   ]
  },
  {
   "cell_type": "markdown",
   "id": "sapphire-collaboration",
   "metadata": {},
   "source": [
    "5. That takes a list and returns a new list with unique elements of the first list."
   ]
  },
  {
   "cell_type": "code",
   "execution_count": 14,
   "id": "heavy-murray",
   "metadata": {},
   "outputs": [
    {
     "name": "stdout",
     "output_type": "stream",
     "text": [
      "Unique List\n",
      "[1, 34, 2, 3, 4, 5]\n"
     ]
    }
   ],
   "source": [
    "def unique_list(lst):\n",
    "    s = set(lst)\n",
    "    s_list = list(s)\n",
    "    return s_list\n",
    "\n",
    "print('Unique List')\n",
    "print(unique_list([2,3,3,4,5,5,2,2,34,2,1]))"
   ]
  },
  {
   "cell_type": "markdown",
   "id": "mature-terrain",
   "metadata": {},
   "source": [
    "6. That returns a list of all four-digit numbers that have all their digits even and are perfect squares. (for eg:- the output should include 6400 but not 8100 (one digit is odd) or 4268 (not a perfect square))"
   ]
  },
  {
   "cell_type": "code",
   "execution_count": 28,
   "id": "nasty-producer",
   "metadata": {},
   "outputs": [
    {
     "name": "stdout",
     "output_type": "stream",
     "text": [
      "[4624, 6084, 6400, 8464]\n"
     ]
    }
   ],
   "source": [
    "import math\n",
    "\n",
    "def perfect_even():\n",
    "    lst = []\n",
    "    for i in range(1000, 10000):\n",
    "        temp = i\n",
    "        c = 0\n",
    "        while temp > 0 and temp % 2 != 1:\n",
    "            c += 1\n",
    "            temp = int(temp / 10)\n",
    "        if c == 4:\n",
    "            root = math.sqrt(i)\n",
    "            if int(root + 0.5) ** 2 == i:\n",
    "                lst.append(i)\n",
    "    return lst\n",
    "\n",
    "print(perfect_even())\n",
    "    "
   ]
  },
  {
   "cell_type": "markdown",
   "id": "optional-divide",
   "metadata": {},
   "source": [
    "7. That accept an integer number, find if it is Disarium number or not (Hint: A number is said to be a Disarium number when the sum of its digit raised to the power of their respective position is equal to the number itself. Eg: 175 is a Disarium number, 1^1 + 7^2 + 5^3 = 175)"
   ]
  },
  {
   "cell_type": "code",
   "execution_count": 5,
   "id": "sorted-stretch",
   "metadata": {},
   "outputs": [
    {
     "name": "stdout",
     "output_type": "stream",
     "text": [
      "Enter the number you need to check 175\n"
     ]
    },
    {
     "ename": "OverflowError",
     "evalue": "cannot convert float infinity to integer",
     "output_type": "error",
     "traceback": [
      "\u001b[0;31m---------------------------------------------------------------------------\u001b[0m",
      "\u001b[0;31mOverflowError\u001b[0m                             Traceback (most recent call last)",
      "\u001b[0;32m<ipython-input-5-259c97b16483>\u001b[0m in \u001b[0;36m<module>\u001b[0;34m\u001b[0m\n\u001b[1;32m     23\u001b[0m \u001b[0mn\u001b[0m \u001b[0;34m=\u001b[0m \u001b[0mint\u001b[0m\u001b[0;34m(\u001b[0m\u001b[0minput\u001b[0m\u001b[0;34m(\u001b[0m\u001b[0;34m'Enter the number you need to check '\u001b[0m\u001b[0;34m)\u001b[0m\u001b[0;34m)\u001b[0m\u001b[0;34m\u001b[0m\u001b[0;34m\u001b[0m\u001b[0m\n\u001b[1;32m     24\u001b[0m \u001b[0;34m\u001b[0m\u001b[0m\n\u001b[0;32m---> 25\u001b[0;31m \u001b[0msumm\u001b[0m \u001b[0;34m=\u001b[0m \u001b[0mdisarium\u001b[0m\u001b[0;34m(\u001b[0m\u001b[0mn\u001b[0m\u001b[0;34m)\u001b[0m\u001b[0;34m\u001b[0m\u001b[0;34m\u001b[0m\u001b[0m\n\u001b[0m\u001b[1;32m     26\u001b[0m \u001b[0;32mif\u001b[0m \u001b[0ms\u001b[0m \u001b[0;34m==\u001b[0m \u001b[0mn\u001b[0m\u001b[0;34m:\u001b[0m\u001b[0;34m\u001b[0m\u001b[0;34m\u001b[0m\u001b[0m\n\u001b[1;32m     27\u001b[0m     \u001b[0mprint\u001b[0m\u001b[0;34m(\u001b[0m\u001b[0;34m'Disarium'\u001b[0m\u001b[0;34m)\u001b[0m\u001b[0;34m\u001b[0m\u001b[0;34m\u001b[0m\u001b[0m\n",
      "\u001b[0;32m<ipython-input-5-259c97b16483>\u001b[0m in \u001b[0;36mdisarium\u001b[0;34m(num)\u001b[0m\n\u001b[1;32m     17\u001b[0m         \u001b[0ms\u001b[0m \u001b[0;34m+=\u001b[0m \u001b[0mpow\u001b[0m\u001b[0;34m(\u001b[0m\u001b[0mtemp\u001b[0m \u001b[0;34m%\u001b[0m \u001b[0;36m10\u001b[0m\u001b[0;34m,\u001b[0m \u001b[0mi\u001b[0m\u001b[0;34m)\u001b[0m\u001b[0;34m\u001b[0m\u001b[0;34m\u001b[0m\u001b[0m\n\u001b[1;32m     18\u001b[0m         \u001b[0mi\u001b[0m \u001b[0;34m+=\u001b[0m \u001b[0;36m1\u001b[0m\u001b[0;34m\u001b[0m\u001b[0;34m\u001b[0m\u001b[0m\n\u001b[0;32m---> 19\u001b[0;31m         \u001b[0mtemp\u001b[0m \u001b[0;34m=\u001b[0m \u001b[0mint\u001b[0m\u001b[0;34m(\u001b[0m\u001b[0mmath\u001b[0m\u001b[0;34m.\u001b[0m\u001b[0mfloor\u001b[0m\u001b[0;34m(\u001b[0m\u001b[0mtemp\u001b[0m \u001b[0;34m/\u001b[0m \u001b[0;36m10\u001b[0m\u001b[0;34m)\u001b[0m\u001b[0;34m)\u001b[0m\u001b[0;34m\u001b[0m\u001b[0;34m\u001b[0m\u001b[0m\n\u001b[0m\u001b[1;32m     20\u001b[0m \u001b[0;34m\u001b[0m\u001b[0m\n\u001b[1;32m     21\u001b[0m     \u001b[0;32mreturn\u001b[0m \u001b[0ms\u001b[0m\u001b[0;34m\u001b[0m\u001b[0;34m\u001b[0m\u001b[0m\n",
      "\u001b[0;31mOverflowError\u001b[0m: cannot convert float infinity to integer"
     ]
    }
   ],
   "source": [
    "import math\n",
    "\n",
    "def disarium(num):\n",
    "    s = 0\n",
    "    \n",
    "    \n",
    "   \n",
    "    \n",
    "    return s"
   ]
  },
  {
   "cell_type": "markdown",
   "id": "radio-modeling",
   "metadata": {},
   "source": [
    "8. That returns a list of all the Disarium numbers between two limits. The function accepts limits as parameters."
   ]
  },
  {
   "cell_type": "code",
   "execution_count": null,
   "id": "opponent-woman",
   "metadata": {},
   "outputs": [],
   "source": []
  },
  {
   "cell_type": "markdown",
   "id": "empty-moscow",
   "metadata": {},
   "source": [
    "9. That accepts a string, check for Palindrome and returns True or False respectively."
   ]
  },
  {
   "cell_type": "code",
   "execution_count": null,
   "id": "cutting-scroll",
   "metadata": {},
   "outputs": [],
   "source": []
  },
  {
   "cell_type": "markdown",
   "id": "driven-posting",
   "metadata": {},
   "source": [
    "10. That accept an arbitrary number of words returnd the count of each word."
   ]
  },
  {
   "cell_type": "code",
   "execution_count": null,
   "id": "seasonal-dealing",
   "metadata": {},
   "outputs": [],
   "source": []
  },
  {
   "cell_type": "markdown",
   "id": "applied-rating",
   "metadata": {},
   "source": [
    "11. That accept two lists and return True if they have at least one commmon item else return False."
   ]
  },
  {
   "cell_type": "code",
   "execution_count": null,
   "id": "posted-collins",
   "metadata": {},
   "outputs": [],
   "source": []
  },
  {
   "cell_type": "markdown",
   "id": "solved-camcorder",
   "metadata": {},
   "source": [
    "12. That accept two numbers and return the GCD (greatest common divisor) of the numbers."
   ]
  },
  {
   "cell_type": "code",
   "execution_count": null,
   "id": "numerous-termination",
   "metadata": {},
   "outputs": [],
   "source": []
  },
  {
   "cell_type": "markdown",
   "id": "liked-twins",
   "metadata": {},
   "source": [
    "13. That accepts an arbitrary number of keyword arguments and returns the maximum value."
   ]
  },
  {
   "cell_type": "code",
   "execution_count": null,
   "id": "liable-afghanistan",
   "metadata": {},
   "outputs": [],
   "source": []
  },
  {
   "cell_type": "markdown",
   "id": "knowing-brisbane",
   "metadata": {},
   "source": [
    "14. That accepts a string and return a list of all duplicate characters in the string."
   ]
  },
  {
   "cell_type": "code",
   "execution_count": null,
   "id": "genuine-preserve",
   "metadata": {},
   "outputs": [],
   "source": []
  },
  {
   "cell_type": "markdown",
   "id": "variable-tennessee",
   "metadata": {},
   "source": [
    "15. That accepts a number, find the factors and return two lists. The first list contains all the odd factors and second list all the even ones."
   ]
  },
  {
   "cell_type": "code",
   "execution_count": null,
   "id": "geographic-lebanon",
   "metadata": {},
   "outputs": [],
   "source": []
  },
  {
   "cell_type": "markdown",
   "id": "sweet-customs",
   "metadata": {},
   "source": [
    "## Write a Python program to create a recursive function:"
   ]
  },
  {
   "cell_type": "markdown",
   "id": "pleasant-dylan",
   "metadata": {},
   "source": [
    "16. That accepts a number and find the harmonic sum of that number. (Hint: the\n",
    "harmonic sum of n is equal to the sum of reciprocals of positive integers up to n). For\n",
    "example, if n =3, HS = 1+1/2+1/3"
   ]
  },
  {
   "cell_type": "code",
   "execution_count": null,
   "id": "negative-opening",
   "metadata": {},
   "outputs": [],
   "source": []
  },
  {
   "cell_type": "markdown",
   "id": "israeli-miller",
   "metadata": {},
   "source": [
    "17. That accepts a number and find the sum of geometric series of that number. (Hint:\n",
    "Geometric series of 4 = 1+1/2+1/4+1/8)"
   ]
  },
  {
   "cell_type": "code",
   "execution_count": null,
   "id": "scientific-madagascar",
   "metadata": {},
   "outputs": [],
   "source": []
  },
  {
   "cell_type": "markdown",
   "id": "loaded-tunisia",
   "metadata": {},
   "source": [
    "18. That accepts two integers and find the gcd (greatest common divisor) of them."
   ]
  },
  {
   "cell_type": "code",
   "execution_count": null,
   "id": "private-nursing",
   "metadata": {},
   "outputs": [],
   "source": []
  },
  {
   "cell_type": "markdown",
   "id": "organizational-language",
   "metadata": {},
   "source": [
    "19. That accepts a decimal integer and display its binary equivalent."
   ]
  },
  {
   "cell_type": "code",
   "execution_count": null,
   "id": "earned-auction",
   "metadata": {},
   "outputs": [],
   "source": []
  },
  {
   "cell_type": "markdown",
   "id": "trying-thanksgiving",
   "metadata": {},
   "source": [
    "20. To find an item in a sorted list using binary search."
   ]
  },
  {
   "cell_type": "code",
   "execution_count": null,
   "id": "included-nickname",
   "metadata": {},
   "outputs": [],
   "source": []
  }
 ],
 "metadata": {
  "kernelspec": {
   "display_name": "Python 3",
   "language": "python",
   "name": "python3"
  },
  "language_info": {
   "codemirror_mode": {
    "name": "ipython",
    "version": 3
   },
   "file_extension": ".py",
   "mimetype": "text/x-python",
   "name": "python",
   "nbconvert_exporter": "python",
   "pygments_lexer": "ipython3",
   "version": "3.8.5"
  }
 },
 "nbformat": 4,
 "nbformat_minor": 5
}
