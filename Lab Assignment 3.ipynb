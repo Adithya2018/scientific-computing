{
 "cells": [
  {
   "cell_type": "markdown",
   "id": "concrete-muslim",
   "metadata": {},
   "source": [
    "1. To accept a sequence of comma-separated numbers from the user and generate the following with those numbers:-\n",
    "    \n",
    "        a. Tuple\n",
    "        b. Set"
   ]
  },
  {
   "cell_type": "code",
   "execution_count": null,
   "id": "sublime-function",
   "metadata": {},
   "outputs": [],
   "source": [
    "print('Enter a sequence of numbers separated by comma \\n')"
   ]
  }
 ],
 "metadata": {
  "kernelspec": {
   "display_name": "Python 3",
   "language": "python",
   "name": "python3"
  },
  "language_info": {
   "codemirror_mode": {
    "name": "ipython",
    "version": 3
   },
   "file_extension": ".py",
   "mimetype": "text/x-python",
   "name": "python",
   "nbconvert_exporter": "python",
   "pygments_lexer": "ipython3",
   "version": "3.8.5"
  }
 },
 "nbformat": 4,
 "nbformat_minor": 5
}
