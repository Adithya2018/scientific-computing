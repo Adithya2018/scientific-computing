{
 "cells": [
  {
   "cell_type": "markdown",
   "metadata": {},
   "source": [
    "1. To accept a sequence of comma-separated numbers from the user and generate the following with those numbers:-\n",
    "    \n",
    "        a. Tuple\n",
    "        b. Set"
   ]
  },
  {
   "cell_type": "code",
   "execution_count": 4,
   "metadata": {},
   "outputs": [
    {
     "name": "stdout",
     "output_type": "stream",
     "text": [
      "Enter a sequence of numbers separated by comma \n",
      "1,2,3,4,2,3\n",
      "Tuple\n",
      "('1', '2', '3', '4', '2', '3')\n",
      "Set\n",
      "{'2', '3', '4', '1'}\n"
     ]
    }
   ],
   "source": [
    "str1 = input('Enter a sequence of numbers separated by comma \\n')\n",
    "tup1 = tuple(str1.split(','))\n",
    "print('Tuple')\n",
    "print(tup1)\n",
    "set1 = set(str1.split(','))\n",
    "print('Set')\n",
    "print(set1)"
   ]
  },
  {
   "cell_type": "markdown",
   "metadata": {},
   "source": [
    "2. To find the elements those are not common in two sets."
   ]
  },
  {
   "cell_type": "code",
   "execution_count": 17,
   "metadata": {},
   "outputs": [
    {
     "name": "stdout",
     "output_type": "stream",
     "text": [
      "Enter length for set 1 3\n",
      "Enter the items of set 1\n",
      "Enter set item 1\n",
      "Enter set item 2\n",
      "Enter set item 3\n",
      "Enter length for set 2 3\n",
      "Enter the items of set 2\n",
      "Enter set item 2\n",
      "Enter set item 3\n",
      "Enter set item 4\n",
      "{1, 2, 3, 4}\n"
     ]
    }
   ],
   "source": [
    "set1 = set()\n",
    "set2 = set()\n",
    "\n",
    "n1 = int(input('Enter length for set 1 '))\n",
    "print('Enter the items of set 1')\n",
    "for i in range(0,n1):\n",
    "    set1.add(int(input('Enter set item ')))\n",
    "    \n",
    "n2 = int(input('Enter length for set 2 '))\n",
    "print('Enter the items of set 2')\n",
    "for i in range(0,n2):\n",
    "    set1.add(int(input('Enter set item ')))\n",
    "\n",
    "set3 = set1 ^ set2\n",
    "print(set3)"
   ]
  },
  {
   "cell_type": "markdown",
   "metadata": {},
   "source": [
    "3. To create a set of constants in a given sentence using set comprehension."
   ]
  },
  {
   "cell_type": "code",
   "execution_count": null,
   "metadata": {},
   "outputs": [],
   "source": []
  },
  {
   "cell_type": "markdown",
   "metadata": {},
   "source": [
    "4. To remove all duplicates from a given sentence."
   ]
  },
  {
   "cell_type": "code",
   "execution_count": null,
   "metadata": {},
   "outputs": [],
   "source": []
  },
  {
   "cell_type": "markdown",
   "metadata": {},
   "source": [
    "5. To remove the intersection of a second set from the first set."
   ]
  },
  {
   "cell_type": "code",
   "execution_count": null,
   "metadata": {},
   "outputs": [],
   "source": []
  },
  {
   "cell_type": "markdown",
   "metadata": {},
   "source": [
    "6. To check if a given set is a superset of itself and a subset"
   ]
  },
  {
   "cell_type": "code",
   "execution_count": null,
   "metadata": {},
   "outputs": [],
   "source": []
  },
  {
   "cell_type": "markdown",
   "metadata": {},
   "source": [
    "7. To create two frozen-sets and find the following:\n",
    "\n",
    "        a. Union\n",
    "        b. Intersection\n",
    "        c. Difference"
   ]
  },
  {
   "cell_type": "code",
   "execution_count": null,
   "metadata": {},
   "outputs": [],
   "source": []
  },
  {
   "cell_type": "markdown",
   "metadata": {},
   "source": [
    "8. To create a tuple of unique elements from an existing tuple."
   ]
  },
  {
   "cell_type": "code",
   "execution_count": null,
   "metadata": {},
   "outputs": [],
   "source": []
  }
 ],
 "metadata": {
  "kernelspec": {
   "display_name": "Python 3",
   "language": "python",
   "name": "python3"
  },
  "language_info": {
   "codemirror_mode": {
    "name": "ipython",
    "version": 3
   },
   "file_extension": ".py",
   "mimetype": "text/x-python",
   "name": "python",
   "nbconvert_exporter": "python",
   "pygments_lexer": "ipython3",
   "version": "3.8.5"
  }
 },
 "nbformat": 4,
 "nbformat_minor": 5
}
