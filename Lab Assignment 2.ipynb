{
 "cells": [
  {
   "cell_type": "markdown",
   "metadata": {},
   "source": [
    "# Python Programming - Strings and List"
   ]
  },
  {
   "cell_type": "markdown",
   "metadata": {},
   "source": [
    "### Write Python programs for the following:"
   ]
  },
  {
   "cell_type": "markdown",
   "metadata": {},
   "source": [
    "Qno 1: To accept a filename from the user and print the extension."
   ]
  },
  {
   "cell_type": "code",
   "execution_count": 1,
   "metadata": {},
   "outputs": [
    {
     "name": "stdout",
     "output_type": "stream",
     "text": [
      "Enter a filename \n",
      "\n",
      "The extension of the file is ''\n"
     ]
    }
   ],
   "source": [
    "fileName = str(input('Enter a filename '))\n",
    "print()\n",
    "fextens = fileName.split('.')\n",
    "print(\"The extension of the file is \" + repr(fextens[-1]))"
   ]
  },
  {
   "cell_type": "markdown",
   "metadata": {},
   "source": [
    "Qno 2: Given a string of odd length greater than 7, return a string made of the middle three chars of the given string.  \n",
    "  \n",
    "     Sample String = \"Pythonstrings\"  \n",
    "     Expected Result: 'nst'"
   ]
  },
  {
   "cell_type": "code",
   "execution_count": 2,
   "metadata": {},
   "outputs": [
    {
     "name": "stdout",
     "output_type": "stream",
     "text": [
      "Enter a String \n",
      "\n"
     ]
    }
   ],
   "source": [
    "strr = str(input('Enter a String '))\n",
    "print()\n",
    "if len(strr) % 2 == 1 and len(strr) > 7:\n",
    "    temp = int(len(strr) / 2)\n",
    "    print(strr[temp - 1] + strr[temp] + strr[temp + 1])"
   ]
  },
  {
   "cell_type": "markdown",
   "metadata": {},
   "source": [
    "Qno 3: Count all lower case, upper case, digits, and special symbols from a given string.\n",
    "\n",
    "    Given String: str1 = \"P@#yn26at^&i5ve\"\n",
    "    Expected Output:\n",
    "        Total counts of chars, digits, and symbols\n",
    "        Chars = 8\n",
    "        Digits = 3\n",
    "        Symbol = 4"
   ]
  },
  {
   "cell_type": "code",
   "execution_count": 3,
   "metadata": {},
   "outputs": [
    {
     "name": "stdout",
     "output_type": "stream",
     "text": [
      "Enter a string\n",
      "\n",
      "Total counts of chars, digits, and symbols\n",
      "Chars = 0\n",
      "Digits = 0\n",
      "Symbol = 0\n"
     ]
    }
   ],
   "source": [
    "str1 = input('Enter a string')\n",
    "Chars = 0\n",
    "Digits = 0\n",
    "Symbol = 0\n",
    "for i in str1:\n",
    "    num = ord(i)\n",
    "    if num >= 48 and num <= 57:\n",
    "        Digits += 1\n",
    "    elif num >= 65 and num <= 90:\n",
    "        Chars += 1\n",
    "    elif num >= 97 and num <= 122:\n",
    "        Chars += 1\n",
    "    else:\n",
    "        Symbol += 1\n",
    "print()\n",
    "print('Total counts of chars, digits, and symbols')\n",
    "print('Chars = ' + str(Chars))\n",
    "print('Digits = ' + str(Digits))\n",
    "print('Symbol = ' + str(Symbol))"
   ]
  },
  {
   "cell_type": "markdown",
   "metadata": {},
   "source": [
    "Qno 4: To find the longest and the smallest word in a string."
   ]
  },
  {
   "cell_type": "code",
   "execution_count": 21,
   "metadata": {},
   "outputs": [
    {
     "name": "stdout",
     "output_type": "stream",
     "text": [
      "Enter a String testing to see whether it works\n",
      "Smallest word: to\n",
      "Largest word: testing\n"
     ]
    }
   ],
   "source": [
    "string = input('Enter a String ')\n",
    "word = \"\"\n",
    "words = []\n",
    "\n",
    "string += ' '\n",
    "for i in range(0, len(string)):  \n",
    "    if(string[i] != ' '):  \n",
    "        word = word + string[i]  \n",
    "    else:  \n",
    "        words.append(word)  \n",
    "        word = \"\"\n",
    "            \n",
    "small = words[0]\n",
    "large = words[0]\n",
    "   \n",
    "for i in range(0, len(words)):\n",
    "    if(len(small) > len(words[i])):  \n",
    "        small = words[i]  \n",
    "    if(len(large) < len(words[i])):  \n",
    "        large = words[i]\n",
    "        \n",
    "print(\"Smallest word: \" + small)  \n",
    "\n",
    "print(\"Largest word: \" + large)"
   ]
  },
  {
   "cell_type": "markdown",
   "metadata": {},
   "source": [
    "Qno 5: To check if a given string is a Palindrome. (A palindrome reads same from front and back. e.g. Madam, Bob, level.)"
   ]
  },
  {
   "cell_type": "code",
   "execution_count": 7,
   "metadata": {},
   "outputs": [
    {
     "name": "stdout",
     "output_type": "stream",
     "text": [
      "Enter a String Bob\n",
      "Palindrome\n"
     ]
    }
   ],
   "source": [
    "def reverse(s):\n",
    "    str = \"\"\n",
    "    for i in s:\n",
    "        str = i + str\n",
    "    return str\n",
    "\n",
    "s = input('Enter a String ')\n",
    "s = s.lower()\n",
    "if s == reverse(s):\n",
    "    print('Palindrome')\n",
    "else:\n",
    "    print('Not a Palindrome')"
   ]
  },
  {
   "cell_type": "markdown",
   "metadata": {},
   "source": [
    "Qno 6: To  generate  a  new  string  from  a  given  one  where  all occurrences  of  its  first char are replaced by '$', except the first char itself.  \n",
    "\n",
    "        Sample String: 'onion'  \n",
    "        Expected Result: 'oni$n.  \n",
    "        \n",
    "        Sample String: 'people of philippines'  \n",
    "        Expected Result: 'peo$le of $hili$$ines'  "
   ]
  },
  {
   "cell_type": "code",
   "execution_count": null,
   "metadata": {},
   "outputs": [],
   "source": []
  }
 ],
 "metadata": {
  "kernelspec": {
   "display_name": "Python 3",
   "language": "python",
   "name": "python3"
  },
  "language_info": {
   "codemirror_mode": {
    "name": "ipython",
    "version": 3
   },
   "file_extension": ".py",
   "mimetype": "text/x-python",
   "name": "python",
   "nbconvert_exporter": "python",
   "pygments_lexer": "ipython3",
   "version": "3.8.5"
  }
 },
 "nbformat": 4,
 "nbformat_minor": 2
}
