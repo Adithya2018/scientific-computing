{
 "cells": [
  {
   "cell_type": "markdown",
   "metadata": {},
   "source": [
    "# Python Programming - Strings and List"
   ]
  },
  {
   "cell_type": "markdown",
   "metadata": {},
   "source": [
    "### Write Python programs for the following:"
   ]
  },
  {
   "cell_type": "markdown",
   "metadata": {},
   "source": [
    "Qno 1: To accept a filename from the user and print the extension."
   ]
  },
  {
   "cell_type": "code",
   "execution_count": 3,
   "metadata": {},
   "outputs": [
    {
     "name": "stdout",
     "output_type": "stream",
     "text": [
      "Enter a filename dfdf.txt\n",
      "\n",
      "The extension of the file is 'txt'\n"
     ]
    }
   ],
   "source": [
    "fileName = str(input('Enter a filename '))\n",
    "print()\n",
    "fextens = fileName.split('.')\n",
    "print(\"The extension of the file is \" + repr(fextens[-1]))"
   ]
  },
  {
   "cell_type": "markdown",
   "metadata": {},
   "source": [
    "Qno 2: Given a string of odd length greater than 7, return a string made of the middle three chars of the given string.  \n",
    "  \n",
    "     Sample String = \"Pythonstrings\"  \n",
    "     Expected Result: 'nst'"
   ]
  },
  {
   "cell_type": "code",
   "execution_count": 7,
   "metadata": {},
   "outputs": [
    {
     "name": "stdout",
     "output_type": "stream",
     "text": [
      "Enter a String Pythonstrings\n",
      "\n",
      "nst\n"
     ]
    }
   ],
   "source": [
    "strr = str(input('Enter a String '))\n",
    "print()\n",
    "if len(strr) % 2 == 1 and len(strr) > 7:\n",
    "    temp = int(len(strr) / 2)\n",
    "    print(strr[temp - 1] + strr[temp] + strr[temp + 1])"
   ]
  },
  {
   "cell_type": "markdown",
   "metadata": {},
   "source": [
    "Qno 3: Count all lower case, upper case, digits, and special symbols from a given "
   ]
  }
 ],
 "metadata": {
  "kernelspec": {
   "display_name": "Python 3",
   "language": "python",
   "name": "python3"
  },
  "language_info": {
   "codemirror_mode": {
    "name": "ipython",
    "version": 3
   },
   "file_extension": ".py",
   "mimetype": "text/x-python",
   "name": "python",
   "nbconvert_exporter": "python",
   "pygments_lexer": "ipython3",
   "version": "3.7.3"
  }
 },
 "nbformat": 4,
 "nbformat_minor": 2
}
